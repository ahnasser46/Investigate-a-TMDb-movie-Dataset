{
 "cells": [
  {
   "cell_type": "markdown",
   "metadata": {},
   "source": [
    "\n",
    "# Project: Investigate a Dataset of TMDb movie data\n",
    "\n",
    "## Table of Contents\n",
    "<ul>\n",
    "<li><a href=\"#intro\">Introduction</a></li>\n",
    "<li><a href=\"#wrangling\">Data Wrangling</a></li>\n",
    "<li><a href=\"#eda\">Exploratory Data Analysis</a></li>\n",
    "<li><a href=\"#conclusions\">Conclusions</a></li>\n",
    "</ul>"
   ]
  },
  {
   "cell_type": "markdown",
   "metadata": {},
   "source": [
    "<a id='intro'></a>\n",
    "## Introduction\n",
    "\n",
    "TMDB movies dataset has around more 10000 movies across different years, each movie has a set of data to use to come up with some insights. Such findings would give an overview and answers to the questions on many levels like monetary level, genre level, actor & director level, etc."
   ]
  },
  {
   "cell_type": "code",
   "execution_count": 453,
   "metadata": {},
   "outputs": [],
   "source": [
    "#import statements for all of the packages that you\n",
    "\n",
    "import numpy as np\n",
    "import pandas as pd\n",
    "import os, fnmatch\n",
    "import matplotlib.pyplot as plt\n",
    "%matplotlib inline\n",
    "import seaborn as sns\n",
    "sns.set(style=\"darkgrid\")"
   ]
  },
  {
   "cell_type": "markdown",
   "metadata": {},
   "source": [
    "<a id='wrangling'></a>\n",
    "## Data Wrangling\n",
    "\n",
    "> **Tip**: In this section of the report, you will load in the data, check for cleanliness, and then trim and clean your dataset for analysis. Make sure that you document your steps carefully and justify your cleaning decisions.\n",
    "\n",
    "### General Properties"
   ]
  },
  {
   "cell_type": "code",
   "execution_count": 99,
   "metadata": {
    "scrolled": true
   },
   "outputs": [
    {
     "data": {
      "text/html": [
       "<div>\n",
       "<style scoped>\n",
       "    .dataframe tbody tr th:only-of-type {\n",
       "        vertical-align: middle;\n",
       "    }\n",
       "\n",
       "    .dataframe tbody tr th {\n",
       "        vertical-align: top;\n",
       "    }\n",
       "\n",
       "    .dataframe thead th {\n",
       "        text-align: right;\n",
       "    }\n",
       "</style>\n",
       "<table border=\"1\" class=\"dataframe\">\n",
       "  <thead>\n",
       "    <tr style=\"text-align: right;\">\n",
       "      <th></th>\n",
       "      <th>id</th>\n",
       "      <th>imdb_id</th>\n",
       "      <th>popularity</th>\n",
       "      <th>budget</th>\n",
       "      <th>revenue</th>\n",
       "      <th>original_title</th>\n",
       "      <th>cast</th>\n",
       "      <th>homepage</th>\n",
       "      <th>director</th>\n",
       "      <th>tagline</th>\n",
       "      <th>...</th>\n",
       "      <th>overview</th>\n",
       "      <th>runtime</th>\n",
       "      <th>genres</th>\n",
       "      <th>production_companies</th>\n",
       "      <th>release_date</th>\n",
       "      <th>vote_count</th>\n",
       "      <th>vote_average</th>\n",
       "      <th>release_year</th>\n",
       "      <th>budget_adj</th>\n",
       "      <th>revenue_adj</th>\n",
       "    </tr>\n",
       "  </thead>\n",
       "  <tbody>\n",
       "    <tr>\n",
       "      <th>7734</th>\n",
       "      <td>14456</td>\n",
       "      <td>tt0492486</td>\n",
       "      <td>0.170069</td>\n",
       "      <td>0</td>\n",
       "      <td>4910682</td>\n",
       "      <td>Shrooms</td>\n",
       "      <td>Lindsey Haun|Jack Huston|Max Kasch|Maya Hazen|...</td>\n",
       "      <td>NaN</td>\n",
       "      <td>Paddy Breathnach</td>\n",
       "      <td>NaN</td>\n",
       "      <td>...</td>\n",
       "      <td>A group of American teens comes Ireland to vis...</td>\n",
       "      <td>84</td>\n",
       "      <td>Horror|Foreign</td>\n",
       "      <td>Nordisk Film|Ingenious Film Partners|Capitol F...</td>\n",
       "      <td>8/16/07</td>\n",
       "      <td>48</td>\n",
       "      <td>4.6</td>\n",
       "      <td>2007</td>\n",
       "      <td>0.000000e+00</td>\n",
       "      <td>5.164410e+06</td>\n",
       "    </tr>\n",
       "    <tr>\n",
       "      <th>7831</th>\n",
       "      <td>5157</td>\n",
       "      <td>tt0078846</td>\n",
       "      <td>1.394910</td>\n",
       "      <td>239000</td>\n",
       "      <td>0</td>\n",
       "      <td>Beneath the Valley of the Ultra-Vixens</td>\n",
       "      <td>Uschi Digard|Ann Marie|Stuart Lancaster|Michae...</td>\n",
       "      <td>NaN</td>\n",
       "      <td>Russ Meyer</td>\n",
       "      <td>Six Chicks in search of a Cluck! ...and so hil...</td>\n",
       "      <td>...</td>\n",
       "      <td>Believe it or not even in Smalltown USA there ...</td>\n",
       "      <td>93</td>\n",
       "      <td>Comedy</td>\n",
       "      <td>RM Films International</td>\n",
       "      <td>5/11/79</td>\n",
       "      <td>12</td>\n",
       "      <td>5.0</td>\n",
       "      <td>1979</td>\n",
       "      <td>7.180884e+05</td>\n",
       "      <td>0.000000e+00</td>\n",
       "    </tr>\n",
       "    <tr>\n",
       "      <th>8498</th>\n",
       "      <td>10218</td>\n",
       "      <td>tt0117802</td>\n",
       "      <td>0.802896</td>\n",
       "      <td>200000</td>\n",
       "      <td>4505922</td>\n",
       "      <td>Swingers</td>\n",
       "      <td>Jon Favreau|Vince Vaughn|Ron Livingston|Patric...</td>\n",
       "      <td>NaN</td>\n",
       "      <td>Doug Liman</td>\n",
       "      <td>Cocktails first. Questions later.</td>\n",
       "      <td>...</td>\n",
       "      <td>This is a story about Mike, a guy who left his...</td>\n",
       "      <td>94</td>\n",
       "      <td>Comedy|Romance</td>\n",
       "      <td>Miramax Films|Independent Pictures (II)|The Al...</td>\n",
       "      <td>10/18/96</td>\n",
       "      <td>129</td>\n",
       "      <td>6.9</td>\n",
       "      <td>1996</td>\n",
       "      <td>2.780433e+05</td>\n",
       "      <td>6.264208e+06</td>\n",
       "    </tr>\n",
       "    <tr>\n",
       "      <th>5158</th>\n",
       "      <td>4592</td>\n",
       "      <td>tt0289889</td>\n",
       "      <td>0.141822</td>\n",
       "      <td>0</td>\n",
       "      <td>0</td>\n",
       "      <td>Carolina</td>\n",
       "      <td>Julia Stiles|Alessandro Nivola|Shirley MacLain...</td>\n",
       "      <td>NaN</td>\n",
       "      <td>Marleen Gorris</td>\n",
       "      <td>NaN</td>\n",
       "      <td>...</td>\n",
       "      <td>Carolina is a 2003 romantic comedy film direct...</td>\n",
       "      <td>97</td>\n",
       "      <td>Comedy|Romance</td>\n",
       "      <td>Hollywood Partners|Carol Baum Productions|Breg...</td>\n",
       "      <td>7/4/03</td>\n",
       "      <td>11</td>\n",
       "      <td>5.9</td>\n",
       "      <td>2003</td>\n",
       "      <td>0.000000e+00</td>\n",
       "      <td>0.000000e+00</td>\n",
       "    </tr>\n",
       "    <tr>\n",
       "      <th>3420</th>\n",
       "      <td>71676</td>\n",
       "      <td>tt1071875</td>\n",
       "      <td>1.481016</td>\n",
       "      <td>57000000</td>\n",
       "      <td>149217355</td>\n",
       "      <td>Ghost Rider: Spirit of Vengeance</td>\n",
       "      <td>Nicolas Cage|CiarÃ¡n Hinds|Violante Placido|Fe...</td>\n",
       "      <td>http://www.thespiritofvengeance.com/</td>\n",
       "      <td>Mark Neveldine|Brian Taylor</td>\n",
       "      <td>He Rides Again.</td>\n",
       "      <td>...</td>\n",
       "      <td>When the devil resurfaces with aims to take ov...</td>\n",
       "      <td>95</td>\n",
       "      <td>Action|Fantasy|Thriller</td>\n",
       "      <td>Columbia Pictures|Imagenation Abu Dhabi FZ|Mar...</td>\n",
       "      <td>12/10/11</td>\n",
       "      <td>752</td>\n",
       "      <td>4.7</td>\n",
       "      <td>2011</td>\n",
       "      <td>5.525569e+07</td>\n",
       "      <td>1.446510e+08</td>\n",
       "    </tr>\n",
       "  </tbody>\n",
       "</table>\n",
       "<p>5 rows × 21 columns</p>\n",
       "</div>"
      ],
      "text/plain": [
       "         id    imdb_id  popularity    budget    revenue  \\\n",
       "7734  14456  tt0492486    0.170069         0    4910682   \n",
       "7831   5157  tt0078846    1.394910    239000          0   \n",
       "8498  10218  tt0117802    0.802896    200000    4505922   \n",
       "5158   4592  tt0289889    0.141822         0          0   \n",
       "3420  71676  tt1071875    1.481016  57000000  149217355   \n",
       "\n",
       "                              original_title  \\\n",
       "7734                                 Shrooms   \n",
       "7831  Beneath the Valley of the Ultra-Vixens   \n",
       "8498                                Swingers   \n",
       "5158                                Carolina   \n",
       "3420        Ghost Rider: Spirit of Vengeance   \n",
       "\n",
       "                                                   cast  \\\n",
       "7734  Lindsey Haun|Jack Huston|Max Kasch|Maya Hazen|...   \n",
       "7831  Uschi Digard|Ann Marie|Stuart Lancaster|Michae...   \n",
       "8498  Jon Favreau|Vince Vaughn|Ron Livingston|Patric...   \n",
       "5158  Julia Stiles|Alessandro Nivola|Shirley MacLain...   \n",
       "3420  Nicolas Cage|CiarÃ¡n Hinds|Violante Placido|Fe...   \n",
       "\n",
       "                                  homepage                     director  \\\n",
       "7734                                   NaN             Paddy Breathnach   \n",
       "7831                                   NaN                   Russ Meyer   \n",
       "8498                                   NaN                   Doug Liman   \n",
       "5158                                   NaN               Marleen Gorris   \n",
       "3420  http://www.thespiritofvengeance.com/  Mark Neveldine|Brian Taylor   \n",
       "\n",
       "                                                tagline  ...  \\\n",
       "7734                                                NaN  ...   \n",
       "7831  Six Chicks in search of a Cluck! ...and so hil...  ...   \n",
       "8498                  Cocktails first. Questions later.  ...   \n",
       "5158                                                NaN  ...   \n",
       "3420                                    He Rides Again.  ...   \n",
       "\n",
       "                                               overview runtime  \\\n",
       "7734  A group of American teens comes Ireland to vis...      84   \n",
       "7831  Believe it or not even in Smalltown USA there ...      93   \n",
       "8498  This is a story about Mike, a guy who left his...      94   \n",
       "5158  Carolina is a 2003 romantic comedy film direct...      97   \n",
       "3420  When the devil resurfaces with aims to take ov...      95   \n",
       "\n",
       "                       genres  \\\n",
       "7734           Horror|Foreign   \n",
       "7831                   Comedy   \n",
       "8498           Comedy|Romance   \n",
       "5158           Comedy|Romance   \n",
       "3420  Action|Fantasy|Thriller   \n",
       "\n",
       "                                   production_companies release_date  \\\n",
       "7734  Nordisk Film|Ingenious Film Partners|Capitol F...      8/16/07   \n",
       "7831                             RM Films International      5/11/79   \n",
       "8498  Miramax Films|Independent Pictures (II)|The Al...     10/18/96   \n",
       "5158  Hollywood Partners|Carol Baum Productions|Breg...       7/4/03   \n",
       "3420  Columbia Pictures|Imagenation Abu Dhabi FZ|Mar...     12/10/11   \n",
       "\n",
       "     vote_count  vote_average  release_year    budget_adj   revenue_adj  \n",
       "7734         48           4.6          2007  0.000000e+00  5.164410e+06  \n",
       "7831         12           5.0          1979  7.180884e+05  0.000000e+00  \n",
       "8498        129           6.9          1996  2.780433e+05  6.264208e+06  \n",
       "5158         11           5.9          2003  0.000000e+00  0.000000e+00  \n",
       "3420        752           4.7          2011  5.525569e+07  1.446510e+08  \n",
       "\n",
       "[5 rows x 21 columns]"
      ]
     },
     "execution_count": 99,
     "metadata": {},
     "output_type": "execute_result"
    }
   ],
   "source": [
    "#Reading and Loading the data\n",
    "df=pd.read_csv(\"tmdb-movies.csv\")\n",
    "df.sample(5)"
   ]
  },
  {
   "cell_type": "code",
   "execution_count": 100,
   "metadata": {},
   "outputs": [
    {
     "data": {
      "text/plain": [
       "(10866, 21)"
      ]
     },
     "execution_count": 100,
     "metadata": {},
     "output_type": "execute_result"
    }
   ],
   "source": [
    "#discovering the data structure\n",
    "df.shape"
   ]
  },
  {
   "cell_type": "code",
   "execution_count": 101,
   "metadata": {},
   "outputs": [
    {
     "name": "stdout",
     "output_type": "stream",
     "text": [
      "<class 'pandas.core.frame.DataFrame'>\n",
      "RangeIndex: 10866 entries, 0 to 10865\n",
      "Data columns (total 21 columns):\n",
      " #   Column                Non-Null Count  Dtype  \n",
      "---  ------                --------------  -----  \n",
      " 0   id                    10866 non-null  int64  \n",
      " 1   imdb_id               10856 non-null  object \n",
      " 2   popularity            10866 non-null  float64\n",
      " 3   budget                10866 non-null  int64  \n",
      " 4   revenue               10866 non-null  int64  \n",
      " 5   original_title        10866 non-null  object \n",
      " 6   cast                  10790 non-null  object \n",
      " 7   homepage              2936 non-null   object \n",
      " 8   director              10822 non-null  object \n",
      " 9   tagline               8042 non-null   object \n",
      " 10  keywords              9373 non-null   object \n",
      " 11  overview              10862 non-null  object \n",
      " 12  runtime               10866 non-null  int64  \n",
      " 13  genres                10843 non-null  object \n",
      " 14  production_companies  9836 non-null   object \n",
      " 15  release_date          10866 non-null  object \n",
      " 16  vote_count            10866 non-null  int64  \n",
      " 17  vote_average          10866 non-null  float64\n",
      " 18  release_year          10866 non-null  int64  \n",
      " 19  budget_adj            10866 non-null  float64\n",
      " 20  revenue_adj           10866 non-null  float64\n",
      "dtypes: float64(4), int64(6), object(11)\n",
      "memory usage: 1.7+ MB\n"
     ]
    }
   ],
   "source": [
    "#dicovering the data columns, its dtypes and their nulls if any\n",
    "df.info()"
   ]
  },
  {
   "cell_type": "code",
   "execution_count": 102,
   "metadata": {
    "scrolled": false
   },
   "outputs": [
    {
     "data": {
      "text/html": [
       "<div>\n",
       "<style scoped>\n",
       "    .dataframe tbody tr th:only-of-type {\n",
       "        vertical-align: middle;\n",
       "    }\n",
       "\n",
       "    .dataframe tbody tr th {\n",
       "        vertical-align: top;\n",
       "    }\n",
       "\n",
       "    .dataframe thead th {\n",
       "        text-align: right;\n",
       "    }\n",
       "</style>\n",
       "<table border=\"1\" class=\"dataframe\">\n",
       "  <thead>\n",
       "    <tr style=\"text-align: right;\">\n",
       "      <th></th>\n",
       "      <th>id</th>\n",
       "      <th>popularity</th>\n",
       "      <th>budget</th>\n",
       "      <th>revenue</th>\n",
       "      <th>runtime</th>\n",
       "      <th>vote_count</th>\n",
       "      <th>vote_average</th>\n",
       "      <th>release_year</th>\n",
       "      <th>budget_adj</th>\n",
       "      <th>revenue_adj</th>\n",
       "    </tr>\n",
       "  </thead>\n",
       "  <tbody>\n",
       "    <tr>\n",
       "      <th>count</th>\n",
       "      <td>10866.000000</td>\n",
       "      <td>10866.000000</td>\n",
       "      <td>1.086600e+04</td>\n",
       "      <td>1.086600e+04</td>\n",
       "      <td>10866.000000</td>\n",
       "      <td>10866.000000</td>\n",
       "      <td>10866.000000</td>\n",
       "      <td>10866.000000</td>\n",
       "      <td>1.086600e+04</td>\n",
       "      <td>1.086600e+04</td>\n",
       "    </tr>\n",
       "    <tr>\n",
       "      <th>mean</th>\n",
       "      <td>66064.177434</td>\n",
       "      <td>0.646441</td>\n",
       "      <td>1.462570e+07</td>\n",
       "      <td>3.982332e+07</td>\n",
       "      <td>102.070863</td>\n",
       "      <td>217.389748</td>\n",
       "      <td>5.974922</td>\n",
       "      <td>2001.322658</td>\n",
       "      <td>1.755104e+07</td>\n",
       "      <td>5.136436e+07</td>\n",
       "    </tr>\n",
       "    <tr>\n",
       "      <th>std</th>\n",
       "      <td>92130.136561</td>\n",
       "      <td>1.000185</td>\n",
       "      <td>3.091321e+07</td>\n",
       "      <td>1.170035e+08</td>\n",
       "      <td>31.381405</td>\n",
       "      <td>575.619058</td>\n",
       "      <td>0.935142</td>\n",
       "      <td>12.812941</td>\n",
       "      <td>3.430616e+07</td>\n",
       "      <td>1.446325e+08</td>\n",
       "    </tr>\n",
       "    <tr>\n",
       "      <th>min</th>\n",
       "      <td>5.000000</td>\n",
       "      <td>0.000065</td>\n",
       "      <td>0.000000e+00</td>\n",
       "      <td>0.000000e+00</td>\n",
       "      <td>0.000000</td>\n",
       "      <td>10.000000</td>\n",
       "      <td>1.500000</td>\n",
       "      <td>1960.000000</td>\n",
       "      <td>0.000000e+00</td>\n",
       "      <td>0.000000e+00</td>\n",
       "    </tr>\n",
       "    <tr>\n",
       "      <th>25%</th>\n",
       "      <td>10596.250000</td>\n",
       "      <td>0.207583</td>\n",
       "      <td>0.000000e+00</td>\n",
       "      <td>0.000000e+00</td>\n",
       "      <td>90.000000</td>\n",
       "      <td>17.000000</td>\n",
       "      <td>5.400000</td>\n",
       "      <td>1995.000000</td>\n",
       "      <td>0.000000e+00</td>\n",
       "      <td>0.000000e+00</td>\n",
       "    </tr>\n",
       "    <tr>\n",
       "      <th>50%</th>\n",
       "      <td>20669.000000</td>\n",
       "      <td>0.383856</td>\n",
       "      <td>0.000000e+00</td>\n",
       "      <td>0.000000e+00</td>\n",
       "      <td>99.000000</td>\n",
       "      <td>38.000000</td>\n",
       "      <td>6.000000</td>\n",
       "      <td>2006.000000</td>\n",
       "      <td>0.000000e+00</td>\n",
       "      <td>0.000000e+00</td>\n",
       "    </tr>\n",
       "    <tr>\n",
       "      <th>75%</th>\n",
       "      <td>75610.000000</td>\n",
       "      <td>0.713817</td>\n",
       "      <td>1.500000e+07</td>\n",
       "      <td>2.400000e+07</td>\n",
       "      <td>111.000000</td>\n",
       "      <td>145.750000</td>\n",
       "      <td>6.600000</td>\n",
       "      <td>2011.000000</td>\n",
       "      <td>2.085325e+07</td>\n",
       "      <td>3.369710e+07</td>\n",
       "    </tr>\n",
       "    <tr>\n",
       "      <th>max</th>\n",
       "      <td>417859.000000</td>\n",
       "      <td>32.985763</td>\n",
       "      <td>4.250000e+08</td>\n",
       "      <td>2.781506e+09</td>\n",
       "      <td>900.000000</td>\n",
       "      <td>9767.000000</td>\n",
       "      <td>9.200000</td>\n",
       "      <td>2015.000000</td>\n",
       "      <td>4.250000e+08</td>\n",
       "      <td>2.827124e+09</td>\n",
       "    </tr>\n",
       "  </tbody>\n",
       "</table>\n",
       "</div>"
      ],
      "text/plain": [
       "                  id    popularity        budget       revenue       runtime  \\\n",
       "count   10866.000000  10866.000000  1.086600e+04  1.086600e+04  10866.000000   \n",
       "mean    66064.177434      0.646441  1.462570e+07  3.982332e+07    102.070863   \n",
       "std     92130.136561      1.000185  3.091321e+07  1.170035e+08     31.381405   \n",
       "min         5.000000      0.000065  0.000000e+00  0.000000e+00      0.000000   \n",
       "25%     10596.250000      0.207583  0.000000e+00  0.000000e+00     90.000000   \n",
       "50%     20669.000000      0.383856  0.000000e+00  0.000000e+00     99.000000   \n",
       "75%     75610.000000      0.713817  1.500000e+07  2.400000e+07    111.000000   \n",
       "max    417859.000000     32.985763  4.250000e+08  2.781506e+09    900.000000   \n",
       "\n",
       "         vote_count  vote_average  release_year    budget_adj   revenue_adj  \n",
       "count  10866.000000  10866.000000  10866.000000  1.086600e+04  1.086600e+04  \n",
       "mean     217.389748      5.974922   2001.322658  1.755104e+07  5.136436e+07  \n",
       "std      575.619058      0.935142     12.812941  3.430616e+07  1.446325e+08  \n",
       "min       10.000000      1.500000   1960.000000  0.000000e+00  0.000000e+00  \n",
       "25%       17.000000      5.400000   1995.000000  0.000000e+00  0.000000e+00  \n",
       "50%       38.000000      6.000000   2006.000000  0.000000e+00  0.000000e+00  \n",
       "75%      145.750000      6.600000   2011.000000  2.085325e+07  3.369710e+07  \n",
       "max     9767.000000      9.200000   2015.000000  4.250000e+08  2.827124e+09  "
      ]
     },
     "execution_count": 102,
     "metadata": {},
     "output_type": "execute_result"
    }
   ],
   "source": [
    "#a brief of statistics to help us have an overview of the data and spot the errors of any\n",
    "df.describe()"
   ]
  },
  {
   "cell_type": "code",
   "execution_count": 103,
   "metadata": {},
   "outputs": [
    {
     "data": {
      "text/plain": [
       "1"
      ]
     },
     "execution_count": 103,
     "metadata": {},
     "output_type": "execute_result"
    }
   ],
   "source": [
    "#figuring out if the data has any duplicates\n",
    "df.duplicated().sum()"
   ]
  },
  {
   "cell_type": "code",
   "execution_count": 104,
   "metadata": {},
   "outputs": [
    {
     "data": {
      "text/plain": [
       "id                         0\n",
       "imdb_id                   10\n",
       "popularity                 0\n",
       "budget                     0\n",
       "revenue                    0\n",
       "original_title             0\n",
       "cast                      76\n",
       "homepage                7930\n",
       "director                  44\n",
       "tagline                 2824\n",
       "keywords                1493\n",
       "overview                   4\n",
       "runtime                    0\n",
       "genres                    23\n",
       "production_companies    1030\n",
       "release_date               0\n",
       "vote_count                 0\n",
       "vote_average               0\n",
       "release_year               0\n",
       "budget_adj                 0\n",
       "revenue_adj                0\n",
       "dtype: int64"
      ]
     },
     "execution_count": 104,
     "metadata": {},
     "output_type": "execute_result"
    }
   ],
   "source": [
    "#columns which have null values\n",
    "df.isnull().sum()"
   ]
  },
  {
   "cell_type": "code",
   "execution_count": 105,
   "metadata": {},
   "outputs": [
    {
     "data": {
      "text/html": [
       "<div>\n",
       "<style scoped>\n",
       "    .dataframe tbody tr th:only-of-type {\n",
       "        vertical-align: middle;\n",
       "    }\n",
       "\n",
       "    .dataframe tbody tr th {\n",
       "        vertical-align: top;\n",
       "    }\n",
       "\n",
       "    .dataframe thead th {\n",
       "        text-align: right;\n",
       "    }\n",
       "</style>\n",
       "<table border=\"1\" class=\"dataframe\">\n",
       "  <thead>\n",
       "    <tr style=\"text-align: right;\">\n",
       "      <th></th>\n",
       "      <th>id</th>\n",
       "      <th>imdb_id</th>\n",
       "      <th>popularity</th>\n",
       "      <th>budget</th>\n",
       "      <th>revenue</th>\n",
       "      <th>original_title</th>\n",
       "      <th>cast</th>\n",
       "      <th>homepage</th>\n",
       "      <th>director</th>\n",
       "      <th>tagline</th>\n",
       "      <th>...</th>\n",
       "      <th>overview</th>\n",
       "      <th>runtime</th>\n",
       "      <th>genres</th>\n",
       "      <th>production_companies</th>\n",
       "      <th>release_date</th>\n",
       "      <th>vote_count</th>\n",
       "      <th>vote_average</th>\n",
       "      <th>release_year</th>\n",
       "      <th>budget_adj</th>\n",
       "      <th>revenue_adj</th>\n",
       "    </tr>\n",
       "  </thead>\n",
       "  <tbody>\n",
       "    <tr>\n",
       "      <th>30</th>\n",
       "      <td>280996</td>\n",
       "      <td>tt3168230</td>\n",
       "      <td>3.927333</td>\n",
       "      <td>0</td>\n",
       "      <td>29355203</td>\n",
       "      <td>Mr. Holmes</td>\n",
       "      <td>Ian McKellen|Milo Parker|Laura Linney|Hattie M...</td>\n",
       "      <td>http://www.mrholmesfilm.com/</td>\n",
       "      <td>Bill Condon</td>\n",
       "      <td>The man behind the myth</td>\n",
       "      <td>...</td>\n",
       "      <td>The story is set in 1947, following a long-ret...</td>\n",
       "      <td>103</td>\n",
       "      <td>Mystery|Drama</td>\n",
       "      <td>BBC Films|See-Saw Films|FilmNation Entertainme...</td>\n",
       "      <td>6/19/15</td>\n",
       "      <td>425</td>\n",
       "      <td>6.4</td>\n",
       "      <td>2015</td>\n",
       "      <td>0.0</td>\n",
       "      <td>2.700677e+07</td>\n",
       "    </tr>\n",
       "    <tr>\n",
       "      <th>36</th>\n",
       "      <td>339527</td>\n",
       "      <td>tt1291570</td>\n",
       "      <td>3.358321</td>\n",
       "      <td>0</td>\n",
       "      <td>22354572</td>\n",
       "      <td>Solace</td>\n",
       "      <td>Abbie Cornish|Jeffrey Dean Morgan|Colin Farrel...</td>\n",
       "      <td>NaN</td>\n",
       "      <td>Afonso Poyart</td>\n",
       "      <td>A serial killer who can see your future, a psy...</td>\n",
       "      <td>...</td>\n",
       "      <td>A psychic doctor, John Clancy, works with an F...</td>\n",
       "      <td>101</td>\n",
       "      <td>Crime|Drama|Mystery</td>\n",
       "      <td>Eden Rock Media|FilmNation Entertainment|Flynn...</td>\n",
       "      <td>9/3/15</td>\n",
       "      <td>474</td>\n",
       "      <td>6.2</td>\n",
       "      <td>2015</td>\n",
       "      <td>0.0</td>\n",
       "      <td>2.056620e+07</td>\n",
       "    </tr>\n",
       "    <tr>\n",
       "      <th>72</th>\n",
       "      <td>284289</td>\n",
       "      <td>tt2911668</td>\n",
       "      <td>2.272044</td>\n",
       "      <td>0</td>\n",
       "      <td>45895</td>\n",
       "      <td>Beyond the Reach</td>\n",
       "      <td>Michael Douglas|Jeremy Irvine|Hanna Mangan Law...</td>\n",
       "      <td>NaN</td>\n",
       "      <td>Jean-Baptiste LÃ©onetti</td>\n",
       "      <td>NaN</td>\n",
       "      <td>...</td>\n",
       "      <td>A high-rolling corporate shark and his impover...</td>\n",
       "      <td>95</td>\n",
       "      <td>Thriller</td>\n",
       "      <td>Furthur Films</td>\n",
       "      <td>4/17/15</td>\n",
       "      <td>81</td>\n",
       "      <td>5.5</td>\n",
       "      <td>2015</td>\n",
       "      <td>0.0</td>\n",
       "      <td>4.222338e+04</td>\n",
       "    </tr>\n",
       "    <tr>\n",
       "      <th>74</th>\n",
       "      <td>347096</td>\n",
       "      <td>tt3478232</td>\n",
       "      <td>2.165433</td>\n",
       "      <td>0</td>\n",
       "      <td>0</td>\n",
       "      <td>Mythica: The Darkspore</td>\n",
       "      <td>Melanie Stone|Kevin Sorbo|Adam Johnson|Jake St...</td>\n",
       "      <td>http://www.mythicamovie.com/#!blank/wufvh</td>\n",
       "      <td>Anne K. Black</td>\n",
       "      <td>NaN</td>\n",
       "      <td>...</td>\n",
       "      <td>When Teelaâ€™s sister is murdered and a powerf...</td>\n",
       "      <td>108</td>\n",
       "      <td>Action|Adventure|Fantasy</td>\n",
       "      <td>Arrowstorm Entertainment</td>\n",
       "      <td>6/24/15</td>\n",
       "      <td>27</td>\n",
       "      <td>5.1</td>\n",
       "      <td>2015</td>\n",
       "      <td>0.0</td>\n",
       "      <td>0.000000e+00</td>\n",
       "    </tr>\n",
       "    <tr>\n",
       "      <th>75</th>\n",
       "      <td>308369</td>\n",
       "      <td>tt2582496</td>\n",
       "      <td>2.141506</td>\n",
       "      <td>0</td>\n",
       "      <td>0</td>\n",
       "      <td>Me and Earl and the Dying Girl</td>\n",
       "      <td>Thomas Mann|RJ Cyler|Olivia Cooke|Connie Britt...</td>\n",
       "      <td>http://www.foxsearchlight.com/meandearlandthed...</td>\n",
       "      <td>Alfonso Gomez-Rejon</td>\n",
       "      <td>A Little Friendship Never Killed Anyone.</td>\n",
       "      <td>...</td>\n",
       "      <td>Greg is coasting through senior year of high s...</td>\n",
       "      <td>105</td>\n",
       "      <td>Comedy|Drama</td>\n",
       "      <td>Indian Paintbrush</td>\n",
       "      <td>6/12/15</td>\n",
       "      <td>569</td>\n",
       "      <td>7.7</td>\n",
       "      <td>2015</td>\n",
       "      <td>0.0</td>\n",
       "      <td>0.000000e+00</td>\n",
       "    </tr>\n",
       "    <tr>\n",
       "      <th>...</th>\n",
       "      <td>...</td>\n",
       "      <td>...</td>\n",
       "      <td>...</td>\n",
       "      <td>...</td>\n",
       "      <td>...</td>\n",
       "      <td>...</td>\n",
       "      <td>...</td>\n",
       "      <td>...</td>\n",
       "      <td>...</td>\n",
       "      <td>...</td>\n",
       "      <td>...</td>\n",
       "      <td>...</td>\n",
       "      <td>...</td>\n",
       "      <td>...</td>\n",
       "      <td>...</td>\n",
       "      <td>...</td>\n",
       "      <td>...</td>\n",
       "      <td>...</td>\n",
       "      <td>...</td>\n",
       "      <td>...</td>\n",
       "      <td>...</td>\n",
       "    </tr>\n",
       "    <tr>\n",
       "      <th>10860</th>\n",
       "      <td>5060</td>\n",
       "      <td>tt0060214</td>\n",
       "      <td>0.087034</td>\n",
       "      <td>0</td>\n",
       "      <td>0</td>\n",
       "      <td>Carry On Screaming!</td>\n",
       "      <td>Kenneth Williams|Jim Dale|Harry H. Corbett|Joa...</td>\n",
       "      <td>NaN</td>\n",
       "      <td>Gerald Thomas</td>\n",
       "      <td>Carry On Screaming with the Hilarious CARRY ON...</td>\n",
       "      <td>...</td>\n",
       "      <td>The sinister Dr Watt has an evil scheme going....</td>\n",
       "      <td>87</td>\n",
       "      <td>Comedy</td>\n",
       "      <td>Peter Rogers Productions|Anglo-Amalgamated Fil...</td>\n",
       "      <td>5/20/66</td>\n",
       "      <td>13</td>\n",
       "      <td>7.0</td>\n",
       "      <td>1966</td>\n",
       "      <td>0.0</td>\n",
       "      <td>0.000000e+00</td>\n",
       "    </tr>\n",
       "    <tr>\n",
       "      <th>10861</th>\n",
       "      <td>21</td>\n",
       "      <td>tt0060371</td>\n",
       "      <td>0.080598</td>\n",
       "      <td>0</td>\n",
       "      <td>0</td>\n",
       "      <td>The Endless Summer</td>\n",
       "      <td>Michael Hynson|Robert August|Lord 'Tally Ho' B...</td>\n",
       "      <td>NaN</td>\n",
       "      <td>Bruce Brown</td>\n",
       "      <td>NaN</td>\n",
       "      <td>...</td>\n",
       "      <td>The Endless Summer, by Bruce Brown, is one of ...</td>\n",
       "      <td>95</td>\n",
       "      <td>Documentary</td>\n",
       "      <td>Bruce Brown Films</td>\n",
       "      <td>6/15/66</td>\n",
       "      <td>11</td>\n",
       "      <td>7.4</td>\n",
       "      <td>1966</td>\n",
       "      <td>0.0</td>\n",
       "      <td>0.000000e+00</td>\n",
       "    </tr>\n",
       "    <tr>\n",
       "      <th>10862</th>\n",
       "      <td>20379</td>\n",
       "      <td>tt0060472</td>\n",
       "      <td>0.065543</td>\n",
       "      <td>0</td>\n",
       "      <td>0</td>\n",
       "      <td>Grand Prix</td>\n",
       "      <td>James Garner|Eva Marie Saint|Yves Montand|Tosh...</td>\n",
       "      <td>NaN</td>\n",
       "      <td>John Frankenheimer</td>\n",
       "      <td>Cinerama sweeps YOU into a drama of speed and ...</td>\n",
       "      <td>...</td>\n",
       "      <td>Grand Prix driver Pete Aron is fired by his te...</td>\n",
       "      <td>176</td>\n",
       "      <td>Action|Adventure|Drama</td>\n",
       "      <td>Cherokee Productions|Joel Productions|Douglas ...</td>\n",
       "      <td>12/21/66</td>\n",
       "      <td>20</td>\n",
       "      <td>5.7</td>\n",
       "      <td>1966</td>\n",
       "      <td>0.0</td>\n",
       "      <td>0.000000e+00</td>\n",
       "    </tr>\n",
       "    <tr>\n",
       "      <th>10863</th>\n",
       "      <td>39768</td>\n",
       "      <td>tt0060161</td>\n",
       "      <td>0.065141</td>\n",
       "      <td>0</td>\n",
       "      <td>0</td>\n",
       "      <td>Beregis Avtomobilya</td>\n",
       "      <td>Innokentiy Smoktunovskiy|Oleg Efremov|Georgi Z...</td>\n",
       "      <td>NaN</td>\n",
       "      <td>Eldar Ryazanov</td>\n",
       "      <td>NaN</td>\n",
       "      <td>...</td>\n",
       "      <td>An insurance agent who moonlights as a carthie...</td>\n",
       "      <td>94</td>\n",
       "      <td>Mystery|Comedy</td>\n",
       "      <td>Mosfilm</td>\n",
       "      <td>1/1/66</td>\n",
       "      <td>11</td>\n",
       "      <td>6.5</td>\n",
       "      <td>1966</td>\n",
       "      <td>0.0</td>\n",
       "      <td>0.000000e+00</td>\n",
       "    </tr>\n",
       "    <tr>\n",
       "      <th>10864</th>\n",
       "      <td>21449</td>\n",
       "      <td>tt0061177</td>\n",
       "      <td>0.064317</td>\n",
       "      <td>0</td>\n",
       "      <td>0</td>\n",
       "      <td>What's Up, Tiger Lily?</td>\n",
       "      <td>Tatsuya Mihashi|Akiko Wakabayashi|Mie Hama|Joh...</td>\n",
       "      <td>NaN</td>\n",
       "      <td>Woody Allen</td>\n",
       "      <td>WOODY ALLEN STRIKES BACK!</td>\n",
       "      <td>...</td>\n",
       "      <td>In comic Woody Allen's film debut, he took the...</td>\n",
       "      <td>80</td>\n",
       "      <td>Action|Comedy</td>\n",
       "      <td>Benedict Pictures Corp.</td>\n",
       "      <td>11/2/66</td>\n",
       "      <td>22</td>\n",
       "      <td>5.4</td>\n",
       "      <td>1966</td>\n",
       "      <td>0.0</td>\n",
       "      <td>0.000000e+00</td>\n",
       "    </tr>\n",
       "  </tbody>\n",
       "</table>\n",
       "<p>5760 rows × 21 columns</p>\n",
       "</div>"
      ],
      "text/plain": [
       "           id    imdb_id  popularity  budget   revenue  \\\n",
       "30     280996  tt3168230    3.927333       0  29355203   \n",
       "36     339527  tt1291570    3.358321       0  22354572   \n",
       "72     284289  tt2911668    2.272044       0     45895   \n",
       "74     347096  tt3478232    2.165433       0         0   \n",
       "75     308369  tt2582496    2.141506       0         0   \n",
       "...       ...        ...         ...     ...       ...   \n",
       "10860    5060  tt0060214    0.087034       0         0   \n",
       "10861      21  tt0060371    0.080598       0         0   \n",
       "10862   20379  tt0060472    0.065543       0         0   \n",
       "10863   39768  tt0060161    0.065141       0         0   \n",
       "10864   21449  tt0061177    0.064317       0         0   \n",
       "\n",
       "                       original_title  \\\n",
       "30                         Mr. Holmes   \n",
       "36                             Solace   \n",
       "72                   Beyond the Reach   \n",
       "74             Mythica: The Darkspore   \n",
       "75     Me and Earl and the Dying Girl   \n",
       "...                               ...   \n",
       "10860             Carry On Screaming!   \n",
       "10861              The Endless Summer   \n",
       "10862                      Grand Prix   \n",
       "10863             Beregis Avtomobilya   \n",
       "10864          What's Up, Tiger Lily?   \n",
       "\n",
       "                                                    cast  \\\n",
       "30     Ian McKellen|Milo Parker|Laura Linney|Hattie M...   \n",
       "36     Abbie Cornish|Jeffrey Dean Morgan|Colin Farrel...   \n",
       "72     Michael Douglas|Jeremy Irvine|Hanna Mangan Law...   \n",
       "74     Melanie Stone|Kevin Sorbo|Adam Johnson|Jake St...   \n",
       "75     Thomas Mann|RJ Cyler|Olivia Cooke|Connie Britt...   \n",
       "...                                                  ...   \n",
       "10860  Kenneth Williams|Jim Dale|Harry H. Corbett|Joa...   \n",
       "10861  Michael Hynson|Robert August|Lord 'Tally Ho' B...   \n",
       "10862  James Garner|Eva Marie Saint|Yves Montand|Tosh...   \n",
       "10863  Innokentiy Smoktunovskiy|Oleg Efremov|Georgi Z...   \n",
       "10864  Tatsuya Mihashi|Akiko Wakabayashi|Mie Hama|Joh...   \n",
       "\n",
       "                                                homepage  \\\n",
       "30                          http://www.mrholmesfilm.com/   \n",
       "36                                                   NaN   \n",
       "72                                                   NaN   \n",
       "74             http://www.mythicamovie.com/#!blank/wufvh   \n",
       "75     http://www.foxsearchlight.com/meandearlandthed...   \n",
       "...                                                  ...   \n",
       "10860                                                NaN   \n",
       "10861                                                NaN   \n",
       "10862                                                NaN   \n",
       "10863                                                NaN   \n",
       "10864                                                NaN   \n",
       "\n",
       "                      director  \\\n",
       "30                 Bill Condon   \n",
       "36               Afonso Poyart   \n",
       "72     Jean-Baptiste LÃ©onetti   \n",
       "74               Anne K. Black   \n",
       "75         Alfonso Gomez-Rejon   \n",
       "...                        ...   \n",
       "10860            Gerald Thomas   \n",
       "10861              Bruce Brown   \n",
       "10862       John Frankenheimer   \n",
       "10863           Eldar Ryazanov   \n",
       "10864              Woody Allen   \n",
       "\n",
       "                                                 tagline  ...  \\\n",
       "30                               The man behind the myth  ...   \n",
       "36     A serial killer who can see your future, a psy...  ...   \n",
       "72                                                   NaN  ...   \n",
       "74                                                   NaN  ...   \n",
       "75              A Little Friendship Never Killed Anyone.  ...   \n",
       "...                                                  ...  ...   \n",
       "10860  Carry On Screaming with the Hilarious CARRY ON...  ...   \n",
       "10861                                                NaN  ...   \n",
       "10862  Cinerama sweeps YOU into a drama of speed and ...  ...   \n",
       "10863                                                NaN  ...   \n",
       "10864                          WOODY ALLEN STRIKES BACK!  ...   \n",
       "\n",
       "                                                overview runtime  \\\n",
       "30     The story is set in 1947, following a long-ret...     103   \n",
       "36     A psychic doctor, John Clancy, works with an F...     101   \n",
       "72     A high-rolling corporate shark and his impover...      95   \n",
       "74     When Teelaâ€™s sister is murdered and a powerf...     108   \n",
       "75     Greg is coasting through senior year of high s...     105   \n",
       "...                                                  ...     ...   \n",
       "10860  The sinister Dr Watt has an evil scheme going....      87   \n",
       "10861  The Endless Summer, by Bruce Brown, is one of ...      95   \n",
       "10862  Grand Prix driver Pete Aron is fired by his te...     176   \n",
       "10863  An insurance agent who moonlights as a carthie...      94   \n",
       "10864  In comic Woody Allen's film debut, he took the...      80   \n",
       "\n",
       "                         genres  \\\n",
       "30                Mystery|Drama   \n",
       "36          Crime|Drama|Mystery   \n",
       "72                     Thriller   \n",
       "74     Action|Adventure|Fantasy   \n",
       "75                 Comedy|Drama   \n",
       "...                         ...   \n",
       "10860                    Comedy   \n",
       "10861               Documentary   \n",
       "10862    Action|Adventure|Drama   \n",
       "10863            Mystery|Comedy   \n",
       "10864             Action|Comedy   \n",
       "\n",
       "                                    production_companies release_date  \\\n",
       "30     BBC Films|See-Saw Films|FilmNation Entertainme...      6/19/15   \n",
       "36     Eden Rock Media|FilmNation Entertainment|Flynn...       9/3/15   \n",
       "72                                         Furthur Films      4/17/15   \n",
       "74                              Arrowstorm Entertainment      6/24/15   \n",
       "75                                     Indian Paintbrush      6/12/15   \n",
       "...                                                  ...          ...   \n",
       "10860  Peter Rogers Productions|Anglo-Amalgamated Fil...      5/20/66   \n",
       "10861                                  Bruce Brown Films      6/15/66   \n",
       "10862  Cherokee Productions|Joel Productions|Douglas ...     12/21/66   \n",
       "10863                                            Mosfilm       1/1/66   \n",
       "10864                            Benedict Pictures Corp.      11/2/66   \n",
       "\n",
       "      vote_count  vote_average  release_year  budget_adj   revenue_adj  \n",
       "30           425           6.4          2015         0.0  2.700677e+07  \n",
       "36           474           6.2          2015         0.0  2.056620e+07  \n",
       "72            81           5.5          2015         0.0  4.222338e+04  \n",
       "74            27           5.1          2015         0.0  0.000000e+00  \n",
       "75           569           7.7          2015         0.0  0.000000e+00  \n",
       "...          ...           ...           ...         ...           ...  \n",
       "10860         13           7.0          1966         0.0  0.000000e+00  \n",
       "10861         11           7.4          1966         0.0  0.000000e+00  \n",
       "10862         20           5.7          1966         0.0  0.000000e+00  \n",
       "10863         11           6.5          1966         0.0  0.000000e+00  \n",
       "10864         22           5.4          1966         0.0  0.000000e+00  \n",
       "\n",
       "[5760 rows x 21 columns]"
      ]
     },
     "execution_count": 105,
     "metadata": {},
     "output_type": "execute_result"
    }
   ],
   "source": [
    "#figuring out the movies that have budget and revenus less than 6000 and 1000 respectively besides the movies of zero budget \n",
    "df.query('budget < 6000' or df.query('revenue < 1000' or df.query('budget = 0')))"
   ]
  },
  {
   "cell_type": "markdown",
   "metadata": {},
   "source": [
    "> **Tip**: You should _not_ perform too many operations in each cell. Create cells freely to explore your data. One option that you can take with this project is to do a lot of explorations in an initial notebook. These don't have to be organized, but make sure you use enough comments to understand the purpose of each code cell. Then, after you're done with your analysis, create a duplicate notebook where you will trim the excess and organize your steps so that you have a flowing, cohesive report.\n",
    "\n",
    "> **Tip**: Make sure that you keep your reader informed on the steps that you are taking in your investigation. Follow every code cell, or every set of related code cells, with a markdown cell to describe to the reader what was found in the preceding cell(s). Try to make it so that the reader can then understand what they will be seeing in the following cell(s).\n",
    "\n",
    "### Data Cleaning (Replace this with more specific notes!)"
   ]
  },
  {
   "cell_type": "code",
   "execution_count": 106,
   "metadata": {},
   "outputs": [],
   "source": [
    "#Taking a copy from the original data to start cleaning it\n",
    "df_clean = df.copy()"
   ]
  },
  {
   "cell_type": "markdown",
   "metadata": {},
   "source": [
    "#### Define\n",
    "Removing the duplicate rows"
   ]
  },
  {
   "cell_type": "markdown",
   "metadata": {},
   "source": [
    "#### Code"
   ]
  },
  {
   "cell_type": "code",
   "execution_count": 107,
   "metadata": {},
   "outputs": [],
   "source": [
    "df_clean.drop_duplicates(inplace=True)"
   ]
  },
  {
   "cell_type": "markdown",
   "metadata": {},
   "source": [
    "#### Test"
   ]
  },
  {
   "cell_type": "code",
   "execution_count": 108,
   "metadata": {},
   "outputs": [
    {
     "data": {
      "text/plain": [
       "0"
      ]
     },
     "execution_count": 108,
     "metadata": {},
     "output_type": "execute_result"
    }
   ],
   "source": [
    "df_clean.duplicated().sum()"
   ]
  },
  {
   "cell_type": "markdown",
   "metadata": {},
   "source": [
    "#### Define\n",
    "Converting Id column to string and release year column to a category"
   ]
  },
  {
   "cell_type": "markdown",
   "metadata": {},
   "source": [
    "#### Code"
   ]
  },
  {
   "cell_type": "code",
   "execution_count": 109,
   "metadata": {},
   "outputs": [],
   "source": [
    "df_clean['id'] = df_clean['id'].astype(str)\n",
    "df_clean['release_year'] = df_clean['release_year'].astype('category')"
   ]
  },
  {
   "cell_type": "markdown",
   "metadata": {},
   "source": [
    "#### Test"
   ]
  },
  {
   "cell_type": "code",
   "execution_count": 110,
   "metadata": {},
   "outputs": [
    {
     "name": "stdout",
     "output_type": "stream",
     "text": [
      "<class 'pandas.core.frame.DataFrame'>\n",
      "Int64Index: 10865 entries, 0 to 10865\n",
      "Data columns (total 2 columns):\n",
      " #   Column        Non-Null Count  Dtype   \n",
      "---  ------        --------------  -----   \n",
      " 0   id            10865 non-null  object  \n",
      " 1   release_year  10865 non-null  category\n",
      "dtypes: category(1), object(1)\n",
      "memory usage: 183.3+ KB\n"
     ]
    }
   ],
   "source": [
    "df_clean[['id', 'release_year']].info()"
   ]
  },
  {
   "cell_type": "markdown",
   "metadata": {},
   "source": [
    "#### Define\n",
    "Converting release date to datetime "
   ]
  },
  {
   "cell_type": "markdown",
   "metadata": {},
   "source": [
    "#### Code"
   ]
  },
  {
   "cell_type": "code",
   "execution_count": 111,
   "metadata": {},
   "outputs": [],
   "source": [
    "df_clean ['release_date'] = pd.to_datetime(df_clean['release_date'])"
   ]
  },
  {
   "cell_type": "markdown",
   "metadata": {},
   "source": [
    "#### Test"
   ]
  },
  {
   "cell_type": "code",
   "execution_count": 112,
   "metadata": {},
   "outputs": [
    {
     "data": {
      "text/plain": [
       "dtype('<M8[ns]')"
      ]
     },
     "execution_count": 112,
     "metadata": {},
     "output_type": "execute_result"
    }
   ],
   "source": [
    "df_clean['release_date'].dtype"
   ]
  },
  {
   "cell_type": "markdown",
   "metadata": {},
   "source": [
    "#### Define\n",
    "Drop unneeded columns of text content"
   ]
  },
  {
   "cell_type": "markdown",
   "metadata": {},
   "source": [
    "#### Code"
   ]
  },
  {
   "cell_type": "code",
   "execution_count": 113,
   "metadata": {},
   "outputs": [],
   "source": [
    "df_clean.drop(['homepage', 'imdb_id', 'tagline','overview', 'keywords'], axis=1, inplace=True)"
   ]
  },
  {
   "cell_type": "markdown",
   "metadata": {},
   "source": [
    "#### Test"
   ]
  },
  {
   "cell_type": "code",
   "execution_count": 114,
   "metadata": {
    "scrolled": true
   },
   "outputs": [
    {
     "data": {
      "text/plain": [
       "['id',\n",
       " 'popularity',\n",
       " 'budget',\n",
       " 'revenue',\n",
       " 'original_title',\n",
       " 'cast',\n",
       " 'director',\n",
       " 'runtime',\n",
       " 'genres',\n",
       " 'production_companies',\n",
       " 'release_date',\n",
       " 'vote_count',\n",
       " 'vote_average',\n",
       " 'release_year',\n",
       " 'budget_adj',\n",
       " 'revenue_adj']"
      ]
     },
     "execution_count": 114,
     "metadata": {},
     "output_type": "execute_result"
    }
   ],
   "source": [
    "list(df_clean)"
   ]
  },
  {
   "cell_type": "code",
   "execution_count": 115,
   "metadata": {},
   "outputs": [
    {
     "data": {
      "text/plain": [
       "id                         0\n",
       "popularity                 0\n",
       "budget                     0\n",
       "revenue                    0\n",
       "original_title             0\n",
       "cast                      76\n",
       "director                  44\n",
       "runtime                    0\n",
       "genres                    23\n",
       "production_companies    1030\n",
       "release_date               0\n",
       "vote_count                 0\n",
       "vote_average               0\n",
       "release_year               0\n",
       "budget_adj                 0\n",
       "revenue_adj                0\n",
       "dtype: int64"
      ]
     },
     "execution_count": 115,
     "metadata": {},
     "output_type": "execute_result"
    }
   ],
   "source": [
    "df_clean.isnull().sum()"
   ]
  },
  {
   "cell_type": "code",
   "execution_count": 116,
   "metadata": {},
   "outputs": [],
   "source": [
    "#Taking a copy from the cleaned data to start more cleaning to be ready for another set of analysis\n",
    "df_clean_figures = df_clean.copy()"
   ]
  },
  {
   "cell_type": "markdown",
   "metadata": {},
   "source": [
    "#### Define\n",
    "Remving all the null data which does exist in cast, director, genres and production companies columns"
   ]
  },
  {
   "cell_type": "markdown",
   "metadata": {},
   "source": [
    "#### Code"
   ]
  },
  {
   "cell_type": "code",
   "execution_count": 117,
   "metadata": {},
   "outputs": [],
   "source": [
    "df_clean_figures = df_clean_figures[~(df_clean_figures.production_companies.isnull())]"
   ]
  },
  {
   "cell_type": "code",
   "execution_count": 118,
   "metadata": {},
   "outputs": [],
   "source": [
    "df_clean_figures = df_clean_figures[~(df_clean_figures.director.isnull())]"
   ]
  },
  {
   "cell_type": "code",
   "execution_count": 119,
   "metadata": {},
   "outputs": [],
   "source": [
    "df_clean_figures = df_clean_figures[~(df_clean_figures.genres.isnull())]"
   ]
  },
  {
   "cell_type": "code",
   "execution_count": 120,
   "metadata": {},
   "outputs": [],
   "source": [
    "df_clean_figures = df_clean_figures[~(df_clean_figures.cast.isnull())]"
   ]
  },
  {
   "cell_type": "markdown",
   "metadata": {},
   "source": [
    "#### Test"
   ]
  },
  {
   "cell_type": "code",
   "execution_count": 121,
   "metadata": {
    "scrolled": true
   },
   "outputs": [
    {
     "data": {
      "text/plain": [
       "id                      0\n",
       "popularity              0\n",
       "budget                  0\n",
       "revenue                 0\n",
       "original_title          0\n",
       "cast                    0\n",
       "director                0\n",
       "runtime                 0\n",
       "genres                  0\n",
       "production_companies    0\n",
       "release_date            0\n",
       "vote_count              0\n",
       "vote_average            0\n",
       "release_year            0\n",
       "budget_adj              0\n",
       "revenue_adj             0\n",
       "dtype: int64"
      ]
     },
     "execution_count": 121,
     "metadata": {},
     "output_type": "execute_result"
    }
   ],
   "source": [
    "df_clean_figures.isnull().sum()"
   ]
  },
  {
   "cell_type": "markdown",
   "metadata": {},
   "source": [
    "#### Define\n",
    "Removing all the movies of 0 budget, revenue, runtime in addition to movies with budget less 6000 and revenue less than 1000"
   ]
  },
  {
   "cell_type": "markdown",
   "metadata": {},
   "source": [
    "#### Code"
   ]
  },
  {
   "cell_type": "code",
   "execution_count": 122,
   "metadata": {},
   "outputs": [],
   "source": [
    "df_clean_figures = df_clean_figures[df_clean_figures['budget']!=0]"
   ]
  },
  {
   "cell_type": "code",
   "execution_count": 123,
   "metadata": {},
   "outputs": [],
   "source": [
    "df_clean_figures = df_clean_figures[df_clean_figures['revenue']!=0]"
   ]
  },
  {
   "cell_type": "code",
   "execution_count": 124,
   "metadata": {},
   "outputs": [],
   "source": [
    "df_clean_figures = df_clean_figures[df_clean_figures['runtime']!=0]"
   ]
  },
  {
   "cell_type": "code",
   "execution_count": 125,
   "metadata": {},
   "outputs": [],
   "source": [
    "df_clean_figures =df_clean_figures[df_clean_figures['budget'] > 6000]"
   ]
  },
  {
   "cell_type": "code",
   "execution_count": 126,
   "metadata": {},
   "outputs": [],
   "source": [
    "df_clean_figures =df_clean_figures[df_clean_figures['revenue'] > 1000]"
   ]
  },
  {
   "cell_type": "markdown",
   "metadata": {},
   "source": [
    "#### Test"
   ]
  },
  {
   "cell_type": "code",
   "execution_count": 127,
   "metadata": {},
   "outputs": [
    {
     "data": {
      "text/html": [
       "<div>\n",
       "<style scoped>\n",
       "    .dataframe tbody tr th:only-of-type {\n",
       "        vertical-align: middle;\n",
       "    }\n",
       "\n",
       "    .dataframe tbody tr th {\n",
       "        vertical-align: top;\n",
       "    }\n",
       "\n",
       "    .dataframe thead th {\n",
       "        text-align: right;\n",
       "    }\n",
       "</style>\n",
       "<table border=\"1\" class=\"dataframe\">\n",
       "  <thead>\n",
       "    <tr style=\"text-align: right;\">\n",
       "      <th></th>\n",
       "      <th>id</th>\n",
       "      <th>popularity</th>\n",
       "      <th>budget</th>\n",
       "      <th>revenue</th>\n",
       "      <th>original_title</th>\n",
       "      <th>cast</th>\n",
       "      <th>director</th>\n",
       "      <th>runtime</th>\n",
       "      <th>genres</th>\n",
       "      <th>production_companies</th>\n",
       "      <th>release_date</th>\n",
       "      <th>vote_count</th>\n",
       "      <th>vote_average</th>\n",
       "      <th>release_year</th>\n",
       "      <th>budget_adj</th>\n",
       "      <th>revenue_adj</th>\n",
       "    </tr>\n",
       "  </thead>\n",
       "  <tbody>\n",
       "  </tbody>\n",
       "</table>\n",
       "</div>"
      ],
      "text/plain": [
       "Empty DataFrame\n",
       "Columns: [id, popularity, budget, revenue, original_title, cast, director, runtime, genres, production_companies, release_date, vote_count, vote_average, release_year, budget_adj, revenue_adj]\n",
       "Index: []"
      ]
     },
     "execution_count": 127,
     "metadata": {},
     "output_type": "execute_result"
    }
   ],
   "source": [
    "df_clean_figures.query('budget < 6000' or df_clean_figures.query('revenue < 1000' or df_clean_figures.query('budget = 0')))"
   ]
  },
  {
   "cell_type": "markdown",
   "metadata": {},
   "source": [
    "#### Define\n",
    "Editing this movie budget as it has an extra zero"
   ]
  },
  {
   "cell_type": "markdown",
   "metadata": {},
   "source": [
    "#### Code"
   ]
  },
  {
   "cell_type": "code",
   "execution_count": 128,
   "metadata": {},
   "outputs": [],
   "source": [
    "df_clean_figures.at[2244, 'budget'] = 42500000\n",
    "df_clean_figures.at[2244, 'budget_adj'] = 42500000"
   ]
  },
  {
   "cell_type": "markdown",
   "metadata": {},
   "source": [
    "#### Test"
   ]
  },
  {
   "cell_type": "code",
   "execution_count": 129,
   "metadata": {},
   "outputs": [
    {
     "data": {
      "text/plain": [
       "id                                                                  46528\n",
       "popularity                                                        0.25054\n",
       "budget                                                           42500000\n",
       "revenue                                                          11087569\n",
       "original_title                                          The Warrior's Way\n",
       "cast                    Kate Bosworth|Jang Dong-gun|Geoffrey Rush|Dann...\n",
       "director                                                       Sngmoo Lee\n",
       "runtime                                                               100\n",
       "genres                          Adventure|Fantasy|Action|Western|Thriller\n",
       "production_companies                             Boram Entertainment Inc.\n",
       "release_date                                          2010-12-02 00:00:00\n",
       "vote_count                                                             74\n",
       "vote_average                                                          6.4\n",
       "release_year                                                         2010\n",
       "budget_adj                                                       4.25e+07\n",
       "revenue_adj                                                   1.10876e+07\n",
       "Name: 2244, dtype: object"
      ]
     },
     "execution_count": 129,
     "metadata": {},
     "output_type": "execute_result"
    }
   ],
   "source": [
    "df_clean_figures.loc[2244]"
   ]
  },
  {
   "cell_type": "markdown",
   "metadata": {},
   "source": [
    "#### Define\n",
    "Extracting the profit columns from the subtracting the revenue and the budget columns"
   ]
  },
  {
   "cell_type": "markdown",
   "metadata": {},
   "source": [
    "#### Code"
   ]
  },
  {
   "cell_type": "code",
   "execution_count": 130,
   "metadata": {},
   "outputs": [],
   "source": [
    "df_clean_figures['profit']= df_clean_figures['revenue'] - df_clean_figures['budget']"
   ]
  },
  {
   "cell_type": "code",
   "execution_count": 156,
   "metadata": {},
   "outputs": [],
   "source": [
    "df_clean_figures['profit_adj']= df_clean_figures['revenue_adj'] - df_clean_figures['budget_adj']"
   ]
  },
  {
   "cell_type": "markdown",
   "metadata": {},
   "source": [
    "#### Test"
   ]
  },
  {
   "cell_type": "code",
   "execution_count": 159,
   "metadata": {
    "scrolled": true
   },
   "outputs": [
    {
     "data": {
      "text/plain": [
       "0        1363528810\n",
       "1         228436354\n",
       "2         185238201\n",
       "3        1868178225\n",
       "4        1316249360\n",
       "            ...    \n",
       "10822      26236689\n",
       "10828      10000000\n",
       "10829       1347000\n",
       "10835       8000000\n",
       "10848       6885000\n",
       "Name: profit, Length: 3772, dtype: int64"
      ]
     },
     "execution_count": 159,
     "metadata": {},
     "output_type": "execute_result"
    }
   ],
   "source": [
    "df_clean_figures['profit']"
   ]
  },
  {
   "cell_type": "code",
   "execution_count": 160,
   "metadata": {},
   "outputs": [
    {
     "data": {
      "text/plain": [
       "0        1.254446e+09\n",
       "1        2.101614e+08\n",
       "2        1.704191e+08\n",
       "3        1.718723e+09\n",
       "4        1.210949e+09\n",
       "             ...     \n",
       "10822    1.762585e+08\n",
       "10828    6.718015e+07\n",
       "10829    9.049166e+06\n",
       "10835    5.374412e+07\n",
       "10848    4.625353e+07\n",
       "Name: profit_adj, Length: 3772, dtype: float64"
      ]
     },
     "execution_count": 160,
     "metadata": {},
     "output_type": "execute_result"
    }
   ],
   "source": [
    "df_clean_figures['profit_adj']"
   ]
  },
  {
   "cell_type": "code",
   "execution_count": 132,
   "metadata": {},
   "outputs": [
    {
     "data": {
      "text/html": [
       "<div>\n",
       "<style scoped>\n",
       "    .dataframe tbody tr th:only-of-type {\n",
       "        vertical-align: middle;\n",
       "    }\n",
       "\n",
       "    .dataframe tbody tr th {\n",
       "        vertical-align: top;\n",
       "    }\n",
       "\n",
       "    .dataframe thead th {\n",
       "        text-align: right;\n",
       "    }\n",
       "</style>\n",
       "<table border=\"1\" class=\"dataframe\">\n",
       "  <thead>\n",
       "    <tr style=\"text-align: right;\">\n",
       "      <th></th>\n",
       "      <th>id</th>\n",
       "      <th>popularity</th>\n",
       "      <th>budget</th>\n",
       "      <th>revenue</th>\n",
       "      <th>original_title</th>\n",
       "      <th>cast</th>\n",
       "      <th>director</th>\n",
       "      <th>runtime</th>\n",
       "      <th>genres</th>\n",
       "      <th>production_companies</th>\n",
       "      <th>release_date</th>\n",
       "      <th>vote_count</th>\n",
       "      <th>vote_average</th>\n",
       "      <th>release_year</th>\n",
       "      <th>budget_adj</th>\n",
       "      <th>revenue_adj</th>\n",
       "      <th>profit</th>\n",
       "    </tr>\n",
       "  </thead>\n",
       "  <tbody>\n",
       "    <tr>\n",
       "      <th>0</th>\n",
       "      <td>135397</td>\n",
       "      <td>32.985763</td>\n",
       "      <td>150000000</td>\n",
       "      <td>1513528810</td>\n",
       "      <td>Jurassic World</td>\n",
       "      <td>Chris Pratt|Bryce Dallas Howard|Irrfan Khan|Vi...</td>\n",
       "      <td>Colin Trevorrow</td>\n",
       "      <td>124</td>\n",
       "      <td>Action|Adventure|Science Fiction|Thriller</td>\n",
       "      <td>Universal Studios|Amblin Entertainment|Legenda...</td>\n",
       "      <td>2015-06-09</td>\n",
       "      <td>5562</td>\n",
       "      <td>6.5</td>\n",
       "      <td>2015</td>\n",
       "      <td>1.379999e+08</td>\n",
       "      <td>1.392446e+09</td>\n",
       "      <td>1363528810</td>\n",
       "    </tr>\n",
       "    <tr>\n",
       "      <th>1</th>\n",
       "      <td>76341</td>\n",
       "      <td>28.419936</td>\n",
       "      <td>150000000</td>\n",
       "      <td>378436354</td>\n",
       "      <td>Mad Max: Fury Road</td>\n",
       "      <td>Tom Hardy|Charlize Theron|Hugh Keays-Byrne|Nic...</td>\n",
       "      <td>George Miller</td>\n",
       "      <td>120</td>\n",
       "      <td>Action|Adventure|Science Fiction|Thriller</td>\n",
       "      <td>Village Roadshow Pictures|Kennedy Miller Produ...</td>\n",
       "      <td>2015-05-13</td>\n",
       "      <td>6185</td>\n",
       "      <td>7.1</td>\n",
       "      <td>2015</td>\n",
       "      <td>1.379999e+08</td>\n",
       "      <td>3.481613e+08</td>\n",
       "      <td>228436354</td>\n",
       "    </tr>\n",
       "    <tr>\n",
       "      <th>2</th>\n",
       "      <td>262500</td>\n",
       "      <td>13.112507</td>\n",
       "      <td>110000000</td>\n",
       "      <td>295238201</td>\n",
       "      <td>Insurgent</td>\n",
       "      <td>Shailene Woodley|Theo James|Kate Winslet|Ansel...</td>\n",
       "      <td>Robert Schwentke</td>\n",
       "      <td>119</td>\n",
       "      <td>Adventure|Science Fiction|Thriller</td>\n",
       "      <td>Summit Entertainment|Mandeville Films|Red Wago...</td>\n",
       "      <td>2015-03-18</td>\n",
       "      <td>2480</td>\n",
       "      <td>6.3</td>\n",
       "      <td>2015</td>\n",
       "      <td>1.012000e+08</td>\n",
       "      <td>2.716190e+08</td>\n",
       "      <td>185238201</td>\n",
       "    </tr>\n",
       "    <tr>\n",
       "      <th>3</th>\n",
       "      <td>140607</td>\n",
       "      <td>11.173104</td>\n",
       "      <td>200000000</td>\n",
       "      <td>2068178225</td>\n",
       "      <td>Star Wars: The Force Awakens</td>\n",
       "      <td>Harrison Ford|Mark Hamill|Carrie Fisher|Adam D...</td>\n",
       "      <td>J.J. Abrams</td>\n",
       "      <td>136</td>\n",
       "      <td>Action|Adventure|Science Fiction|Fantasy</td>\n",
       "      <td>Lucasfilm|Truenorth Productions|Bad Robot</td>\n",
       "      <td>2015-12-15</td>\n",
       "      <td>5292</td>\n",
       "      <td>7.5</td>\n",
       "      <td>2015</td>\n",
       "      <td>1.839999e+08</td>\n",
       "      <td>1.902723e+09</td>\n",
       "      <td>1868178225</td>\n",
       "    </tr>\n",
       "    <tr>\n",
       "      <th>4</th>\n",
       "      <td>168259</td>\n",
       "      <td>9.335014</td>\n",
       "      <td>190000000</td>\n",
       "      <td>1506249360</td>\n",
       "      <td>Furious 7</td>\n",
       "      <td>Vin Diesel|Paul Walker|Jason Statham|Michelle ...</td>\n",
       "      <td>James Wan</td>\n",
       "      <td>137</td>\n",
       "      <td>Action|Crime|Thriller</td>\n",
       "      <td>Universal Pictures|Original Film|Media Rights ...</td>\n",
       "      <td>2015-04-01</td>\n",
       "      <td>2947</td>\n",
       "      <td>7.3</td>\n",
       "      <td>2015</td>\n",
       "      <td>1.747999e+08</td>\n",
       "      <td>1.385749e+09</td>\n",
       "      <td>1316249360</td>\n",
       "    </tr>\n",
       "  </tbody>\n",
       "</table>\n",
       "</div>"
      ],
      "text/plain": [
       "       id  popularity     budget     revenue                original_title  \\\n",
       "0  135397   32.985763  150000000  1513528810                Jurassic World   \n",
       "1   76341   28.419936  150000000   378436354            Mad Max: Fury Road   \n",
       "2  262500   13.112507  110000000   295238201                     Insurgent   \n",
       "3  140607   11.173104  200000000  2068178225  Star Wars: The Force Awakens   \n",
       "4  168259    9.335014  190000000  1506249360                     Furious 7   \n",
       "\n",
       "                                                cast          director  \\\n",
       "0  Chris Pratt|Bryce Dallas Howard|Irrfan Khan|Vi...   Colin Trevorrow   \n",
       "1  Tom Hardy|Charlize Theron|Hugh Keays-Byrne|Nic...     George Miller   \n",
       "2  Shailene Woodley|Theo James|Kate Winslet|Ansel...  Robert Schwentke   \n",
       "3  Harrison Ford|Mark Hamill|Carrie Fisher|Adam D...       J.J. Abrams   \n",
       "4  Vin Diesel|Paul Walker|Jason Statham|Michelle ...         James Wan   \n",
       "\n",
       "   runtime                                     genres  \\\n",
       "0      124  Action|Adventure|Science Fiction|Thriller   \n",
       "1      120  Action|Adventure|Science Fiction|Thriller   \n",
       "2      119         Adventure|Science Fiction|Thriller   \n",
       "3      136   Action|Adventure|Science Fiction|Fantasy   \n",
       "4      137                      Action|Crime|Thriller   \n",
       "\n",
       "                                production_companies release_date  vote_count  \\\n",
       "0  Universal Studios|Amblin Entertainment|Legenda...   2015-06-09        5562   \n",
       "1  Village Roadshow Pictures|Kennedy Miller Produ...   2015-05-13        6185   \n",
       "2  Summit Entertainment|Mandeville Films|Red Wago...   2015-03-18        2480   \n",
       "3          Lucasfilm|Truenorth Productions|Bad Robot   2015-12-15        5292   \n",
       "4  Universal Pictures|Original Film|Media Rights ...   2015-04-01        2947   \n",
       "\n",
       "   vote_average release_year    budget_adj   revenue_adj      profit  \n",
       "0           6.5         2015  1.379999e+08  1.392446e+09  1363528810  \n",
       "1           7.1         2015  1.379999e+08  3.481613e+08   228436354  \n",
       "2           6.3         2015  1.012000e+08  2.716190e+08   185238201  \n",
       "3           7.5         2015  1.839999e+08  1.902723e+09  1868178225  \n",
       "4           7.3         2015  1.747999e+08  1.385749e+09  1316249360  "
      ]
     },
     "execution_count": 132,
     "metadata": {},
     "output_type": "execute_result"
    }
   ],
   "source": [
    "df_clean_figures.head()"
   ]
  },
  {
   "cell_type": "markdown",
   "metadata": {},
   "source": [
    "## Store"
   ]
  },
  {
   "cell_type": "markdown",
   "metadata": {},
   "source": [
    "### Store the final datasets after cleaning them according to the needs of the project."
   ]
  },
  {
   "cell_type": "markdown",
   "metadata": {},
   "source": [
    "#### Code"
   ]
  },
  {
   "cell_type": "code",
   "execution_count": 448,
   "metadata": {},
   "outputs": [],
   "source": [
    "df_clean.to_csv('tmdb-movies-clean.csv', index=False)"
   ]
  },
  {
   "cell_type": "code",
   "execution_count": 449,
   "metadata": {},
   "outputs": [],
   "source": [
    "df_clean_figures.to_csv('tmdb-movies-clean-figures.csv', index=False)"
   ]
  },
  {
   "cell_type": "markdown",
   "metadata": {},
   "source": [
    "#### Test"
   ]
  },
  {
   "cell_type": "code",
   "execution_count": 452,
   "metadata": {},
   "outputs": [
    {
     "data": {
      "text/plain": [
       "['tmdb-movies-clean-figures.csv', 'tmdb-movies-clean.csv', 'tmdb-movies.csv']"
      ]
     },
     "execution_count": 452,
     "metadata": {},
     "output_type": "execute_result"
    }
   ],
   "source": [
    "fnmatch.filter(os.listdir('.'), '*.csv')"
   ]
  },
  {
   "cell_type": "markdown",
   "metadata": {},
   "source": [
    "<a id='eda'></a>\n",
    "## Exploratory Data Analysis\n"
   ]
  },
  {
   "cell_type": "markdown",
   "metadata": {},
   "source": [
    "###df_clean dataset analysis"
   ]
  },
  {
   "cell_type": "markdown",
   "metadata": {},
   "source": [
    "#### Q1: What is the distribution of the movies over the years of the dataset?"
   ]
  },
  {
   "cell_type": "code",
   "execution_count": 13,
   "metadata": {
    "scrolled": false
   },
   "outputs": [
    {
     "data": {
      "image/png": "[encoded data removed]",
      "text/plain": [
       "<Figure size 864x360 with 1 Axes>"
      ]
     },
     "metadata": {},
     "output_type": "display_data"
    }
   ],
   "source": [
    "#Movies distribution over the years of the dataset\n",
    "fig, (ax1) = plt.subplots(1, figsize=(12,5))\n",
    "df_clean.groupby('release_year')['original_title'].count().plot(kind='bar', ax=ax1, title='Movies Count over the years')\n",
    "ax1.set_xlabel('Year', size=15)\n",
    "ax1.set_ylabel('Movies Count', size=15)\n",
    "plt.tight_layout();"
   ]
  },
  {
   "cell_type": "markdown",
   "metadata": {},
   "source": [
    "### Feedback\n",
    "#### It seeems that the movies number increases with years obviously. In addition, the number of movies over the first three decdes nearly belowe 100 movies a year since the sixties till the beginning of eighties. Besides, the number exceed the 100 ones starting from the mid eithties and took less time to reach the double in the late ninties. Then, it increased clearly since 2000s untill it increased dramatically from 2005 to 2015. "
   ]
  },
  {
   "cell_type": "markdown",
   "metadata": {},
   "source": [
    "### Q2: Which are the months that have the highest numbers of movies released over the year?"
   ]
  },
  {
   "cell_type": "code",
   "execution_count": 14,
   "metadata": {
    "scrolled": true
   },
   "outputs": [
    {
     "data": {
      "image/png": "[encoded data removed]",
      "text/plain": [
       "<Figure size 864x360 with 1 Axes>"
      ]
     },
     "metadata": {},
     "output_type": "display_data"
    }
   ],
   "source": [
    "#Movies distribution over the months of the years\n",
    "fig, (ax1) = plt.subplots(1, figsize=(12,5))\n",
    "h= df_clean['release_date'].dt.month \n",
    "df_clean.groupby(h)['original_title'].count().plot(kind='bar', ax=ax1, title='Movies Count over the year')\n",
    "ax1.set_xlabel('Month', size=15)\n",
    "ax1.set_ylabel('Movies Count', size=15)\n",
    "plt.tight_layout();"
   ]
  },
  {
   "cell_type": "markdown",
   "metadata": {},
   "source": [
    "### Feedback\n",
    "#### The data demonstrates a fluctuation regarding the number of released movies over the year, however, September, October, December and January showcase that they witnessed a high number of released movies. Consequently, these months might be a season to release the movies."
   ]
  },
  {
   "cell_type": "markdown",
   "metadata": {},
   "source": [
    "### Q3: What does the populairty seem in comparison with both vote average and count?"
   ]
  },
  {
   "cell_type": "code",
   "execution_count": 137,
   "metadata": {
    "scrolled": true
   },
   "outputs": [
    {
     "name": "stderr",
     "output_type": "stream",
     "text": [
      "'c' argument looks like a single numeric RGB or RGBA sequence, which should be avoided as value-mapping will have precedence in case its length matches with 'x' & 'y'.  Please use a 2-D array with a single row if you really want to specify the same RGB or RGBA value for all points.\n",
      "'c' argument looks like a single numeric RGB or RGBA sequence, which should be avoided as value-mapping will have precedence in case its length matches with 'x' & 'y'.  Please use a 2-D array with a single row if you really want to specify the same RGB or RGBA value for all points.\n"
     ]
    },
    {
     "data": {
      "image/png": "[encoded data removed]",
      "text/plain": [
       "<Figure size 1440x288 with 2 Axes>"
      ]
     },
     "metadata": {},
     "output_type": "display_data"
    }
   ],
   "source": [
    "#popularity vs vote count and vote average\n",
    "fig, (ax1,ax2) = plt.subplots(1,2, figsize=(20,4))\n",
    "df_clean.plot(x='vote_count',y='popularity', kind='scatter', ax=ax1, title= 'Vote Count Vs Popularity')\n",
    "ax1.set_xlabel('Vote Count', size=15)\n",
    "ax1.set_ylabel('Popularity', size=15)\n",
    "\n",
    "df_clean.plot(x='vote_average',y='popularity', kind='scatter', ax=ax2, title=\"Vote Average Vs Popularity\")\n",
    "ax2.set_xlabel('Vote Average', size=15)\n",
    "ax2.set_ylabel('Popularity', size=15)\n",
    "\n",
    "plt.tight_layout();"
   ]
  },
  {
   "cell_type": "markdown",
   "metadata": {},
   "source": [
    "### Feedback\n",
    "#### A popularity metric is calculated based on a set of factors such as votes, views, being in favorite, watchlist, etc based on the TMDB website. According to the left chart, the votes seem to contribute to the popularity of the movie slightly no matter how large the count is. Besides, the movies with an average score between 6 and 8 are more popular than the rest. Over and above, the majority of movies have less than 10 in popularity. So, it means that the highest values could be outliers."
   ]
  },
  {
   "cell_type": "markdown",
   "metadata": {},
   "source": [
    "### Q4: In which year do its movies have the highest votes?"
   ]
  },
  {
   "cell_type": "code",
   "execution_count": 30,
   "metadata": {
    "scrolled": true
   },
   "outputs": [
    {
     "data": {
      "image/png": "[encoded data removed]",
      "text/plain": [
       "<Figure size 864x360 with 1 Axes>"
      ]
     },
     "metadata": {},
     "output_type": "display_data"
    }
   ],
   "source": [
    "#which year, its movies have the most vote counts\n",
    "fig, (ax1) = plt.subplots(1, figsize=(12,5))\n",
    "df_clean.groupby('release_year')['vote_count'].sum().plot(kind='bar', ax=ax1, title='Votes per each year ')\n",
    "ax1.set_xlabel('Year', size=15)\n",
    "ax1.set_ylabel('Votes', size=15)\n",
    "plt.tight_layout();"
   ]
  },
  {
   "cell_type": "markdown",
   "metadata": {},
   "source": [
    "### Feedback\n",
    "#### It seems that the movies' fans are more fond of the recent movies other than the older ones to give such big amount of votes to the last years' movies and it turns out from other side that the recent movies are more seen than the older ones. "
   ]
  },
  {
   "cell_type": "markdown",
   "metadata": {},
   "source": [
    "### Q5: In which year do its movies have the highest vote average?"
   ]
  },
  {
   "cell_type": "code",
   "execution_count": 354,
   "metadata": {
    "scrolled": false
   },
   "outputs": [
    {
     "data": {
      "image/png": "[encoded data removed]",
      "text/plain": [
       "<Figure size 864x360 with 1 Axes>"
      ]
     },
     "metadata": {},
     "output_type": "display_data"
    }
   ],
   "source": [
    "#which year, its movies have the most highest vote average\n",
    "fig, (ax1) = plt.subplots(1, figsize=(12,5))\n",
    "df_clean.groupby('release_year')['vote_average'].mean().plot(kind='bar', ylim=(3,7), ax=ax1, title='Vote average over the years ')\n",
    "ax1.set_xlabel('Year', size=15)\n",
    "ax1.set_ylabel('Vote Average', size=15)\n",
    "plt.tight_layout();"
   ]
  },
  {
   "cell_type": "markdown",
   "metadata": {},
   "source": [
    "### Feedback\n",
    "#### In contract with the previous chart, the older movies got higher scoring average than the recent ones and it could be in this way as there are less amount of votes. But, it doesn't overlook how much good such old movies."
   ]
  },
  {
   "cell_type": "markdown",
   "metadata": {},
   "source": [
    "### Q6: Do the movies with the highest votes having the highest vote average and vice versa?"
   ]
  },
  {
   "cell_type": "code",
   "execution_count": 396,
   "metadata": {
    "scrolled": false
   },
   "outputs": [
    {
     "data": {
      "text/html": [
       "<div>\n",
       "<style scoped>\n",
       "    .dataframe tbody tr th:only-of-type {\n",
       "        vertical-align: middle;\n",
       "    }\n",
       "\n",
       "    .dataframe tbody tr th {\n",
       "        vertical-align: top;\n",
       "    }\n",
       "\n",
       "    .dataframe thead th {\n",
       "        text-align: right;\n",
       "    }\n",
       "</style>\n",
       "<table border=\"1\" class=\"dataframe\">\n",
       "  <thead>\n",
       "    <tr style=\"text-align: right;\">\n",
       "      <th></th>\n",
       "      <th>original_title</th>\n",
       "      <th>vote_count</th>\n",
       "      <th>vote_average</th>\n",
       "    </tr>\n",
       "  </thead>\n",
       "  <tbody>\n",
       "    <tr>\n",
       "      <th>1919</th>\n",
       "      <td>Inception</td>\n",
       "      <td>9767</td>\n",
       "      <td>7.9</td>\n",
       "    </tr>\n",
       "    <tr>\n",
       "      <th>4361</th>\n",
       "      <td>The Avengers</td>\n",
       "      <td>8903</td>\n",
       "      <td>7.3</td>\n",
       "    </tr>\n",
       "    <tr>\n",
       "      <th>1386</th>\n",
       "      <td>Avatar</td>\n",
       "      <td>8458</td>\n",
       "      <td>7.1</td>\n",
       "    </tr>\n",
       "    <tr>\n",
       "      <th>2875</th>\n",
       "      <td>The Dark Knight</td>\n",
       "      <td>8432</td>\n",
       "      <td>8.1</td>\n",
       "    </tr>\n",
       "    <tr>\n",
       "      <th>4364</th>\n",
       "      <td>Django Unchained</td>\n",
       "      <td>7375</td>\n",
       "      <td>7.7</td>\n",
       "    </tr>\n",
       "    <tr>\n",
       "      <th>4382</th>\n",
       "      <td>The Hunger Games</td>\n",
       "      <td>7080</td>\n",
       "      <td>6.7</td>\n",
       "    </tr>\n",
       "    <tr>\n",
       "      <th>5425</th>\n",
       "      <td>Iron Man 3</td>\n",
       "      <td>6882</td>\n",
       "      <td>6.9</td>\n",
       "    </tr>\n",
       "    <tr>\n",
       "      <th>4363</th>\n",
       "      <td>The Dark Knight Rises</td>\n",
       "      <td>6723</td>\n",
       "      <td>7.5</td>\n",
       "    </tr>\n",
       "    <tr>\n",
       "      <th>629</th>\n",
       "      <td>Interstellar</td>\n",
       "      <td>6498</td>\n",
       "      <td>8.0</td>\n",
       "    </tr>\n",
       "    <tr>\n",
       "      <th>4367</th>\n",
       "      <td>The Hobbit: An Unexpected Journey</td>\n",
       "      <td>6417</td>\n",
       "      <td>6.9</td>\n",
       "    </tr>\n",
       "  </tbody>\n",
       "</table>\n",
       "</div>"
      ],
      "text/plain": [
       "                         original_title  vote_count  vote_average\n",
       "1919                          Inception        9767           7.9\n",
       "4361                       The Avengers        8903           7.3\n",
       "1386                             Avatar        8458           7.1\n",
       "2875                    The Dark Knight        8432           8.1\n",
       "4364                   Django Unchained        7375           7.7\n",
       "4382                   The Hunger Games        7080           6.7\n",
       "5425                         Iron Man 3        6882           6.9\n",
       "4363              The Dark Knight Rises        6723           7.5\n",
       "629                        Interstellar        6498           8.0\n",
       "4367  The Hobbit: An Unexpected Journey        6417           6.9"
      ]
     },
     "execution_count": 396,
     "metadata": {},
     "output_type": "execute_result"
    }
   ],
   "source": [
    "#the highest vote counts\n",
    "df_clean[['original_title', 'vote_count', 'vote_average']].sort_values(ascending=False, by = 'vote_count').iloc[:10,0:]"
   ]
  },
  {
   "cell_type": "code",
   "execution_count": 397,
   "metadata": {},
   "outputs": [
    {
     "data": {
      "text/html": [
       "<div>\n",
       "<style scoped>\n",
       "    .dataframe tbody tr th:only-of-type {\n",
       "        vertical-align: middle;\n",
       "    }\n",
       "\n",
       "    .dataframe tbody tr th {\n",
       "        vertical-align: top;\n",
       "    }\n",
       "\n",
       "    .dataframe thead th {\n",
       "        text-align: right;\n",
       "    }\n",
       "</style>\n",
       "<table border=\"1\" class=\"dataframe\">\n",
       "  <thead>\n",
       "    <tr style=\"text-align: right;\">\n",
       "      <th></th>\n",
       "      <th>original_title</th>\n",
       "      <th>vote_count</th>\n",
       "      <th>vote_average</th>\n",
       "    </tr>\n",
       "  </thead>\n",
       "  <tbody>\n",
       "    <tr>\n",
       "      <th>3894</th>\n",
       "      <td>The Story of Film: An Odyssey</td>\n",
       "      <td>14</td>\n",
       "      <td>9.2</td>\n",
       "    </tr>\n",
       "    <tr>\n",
       "      <th>538</th>\n",
       "      <td>The Mask You Live In</td>\n",
       "      <td>11</td>\n",
       "      <td>8.9</td>\n",
       "    </tr>\n",
       "    <tr>\n",
       "      <th>1200</th>\n",
       "      <td>Black Mirror: White Christmas</td>\n",
       "      <td>41</td>\n",
       "      <td>8.8</td>\n",
       "    </tr>\n",
       "    <tr>\n",
       "      <th>2269</th>\n",
       "      <td>Life Cycles</td>\n",
       "      <td>27</td>\n",
       "      <td>8.8</td>\n",
       "    </tr>\n",
       "    <tr>\n",
       "      <th>6911</th>\n",
       "      <td>Pink Floyd: Pulse</td>\n",
       "      <td>23</td>\n",
       "      <td>8.7</td>\n",
       "    </tr>\n",
       "    <tr>\n",
       "      <th>2401</th>\n",
       "      <td>Opeth: In Live Concert At The Royal Albert Hall</td>\n",
       "      <td>10</td>\n",
       "      <td>8.6</td>\n",
       "    </tr>\n",
       "    <tr>\n",
       "      <th>3690</th>\n",
       "      <td>The Art of Flight</td>\n",
       "      <td>60</td>\n",
       "      <td>8.5</td>\n",
       "    </tr>\n",
       "    <tr>\n",
       "      <th>8411</th>\n",
       "      <td>Queen - Rock Montreal</td>\n",
       "      <td>14</td>\n",
       "      <td>8.5</td>\n",
       "    </tr>\n",
       "    <tr>\n",
       "      <th>8221</th>\n",
       "      <td>A Personal Journey with Martin Scorsese Throug...</td>\n",
       "      <td>11</td>\n",
       "      <td>8.5</td>\n",
       "    </tr>\n",
       "    <tr>\n",
       "      <th>8839</th>\n",
       "      <td>Dave Chappelle: Killin' Them Softly</td>\n",
       "      <td>17</td>\n",
       "      <td>8.5</td>\n",
       "    </tr>\n",
       "  </tbody>\n",
       "</table>\n",
       "</div>"
      ],
      "text/plain": [
       "                                         original_title  vote_count  \\\n",
       "3894                      The Story of Film: An Odyssey          14   \n",
       "538                                The Mask You Live In          11   \n",
       "1200                      Black Mirror: White Christmas          41   \n",
       "2269                                        Life Cycles          27   \n",
       "6911                                  Pink Floyd: Pulse          23   \n",
       "2401    Opeth: In Live Concert At The Royal Albert Hall          10   \n",
       "3690                                  The Art of Flight          60   \n",
       "8411                              Queen - Rock Montreal          14   \n",
       "8221  A Personal Journey with Martin Scorsese Throug...          11   \n",
       "8839                Dave Chappelle: Killin' Them Softly          17   \n",
       "\n",
       "      vote_average  \n",
       "3894           9.2  \n",
       "538            8.9  \n",
       "1200           8.8  \n",
       "2269           8.8  \n",
       "6911           8.7  \n",
       "2401           8.6  \n",
       "3690           8.5  \n",
       "8411           8.5  \n",
       "8221           8.5  \n",
       "8839           8.5  "
      ]
     },
     "execution_count": 397,
     "metadata": {},
     "output_type": "execute_result"
    }
   ],
   "source": [
    "#the highest vote average\n",
    "df_clean[['original_title', 'vote_count', 'vote_average']].sort_values(ascending=False, by = 'vote_average').iloc[:10,0:]"
   ]
  },
  {
   "cell_type": "markdown",
   "metadata": {},
   "source": [
    "### Feedback\n",
    "#### Movies with the highest vote average have very low vote counts, unlike the movies with the highest vote counts which have a fine score average. So, the vote average of the movies with the highest vote counts is more than authentic due to such a significant amount of votes which may give an indication of how such movies really look like to the movies' fans. "
   ]
  },
  {
   "cell_type": "markdown",
   "metadata": {},
   "source": [
    "## Q7: Does the highest vote average mean high vote count?"
   ]
  },
  {
   "cell_type": "code",
   "execution_count": 230,
   "metadata": {
    "scrolled": true
   },
   "outputs": [
    {
     "name": "stderr",
     "output_type": "stream",
     "text": [
      "'c' argument looks like a single numeric RGB or RGBA sequence, which should be avoided as value-mapping will have precedence in case its length matches with 'x' & 'y'.  Please use a 2-D array with a single row if you really want to specify the same RGB or RGBA value for all points.\n"
     ]
    },
    {
     "data": {
      "image/png": "[encoded data removed]",
      "text/plain": [
       "<Figure size 1440x288 with 1 Axes>"
      ]
     },
     "metadata": {},
     "output_type": "display_data"
    }
   ],
   "source": [
    "fig, (ax1) = plt.subplots(1, figsize=(20,4))\n",
    "df_clean.plot(x='vote_average',y='vote_count', kind='scatter', ax=ax1, title= 'Vote Count Vs Vote Average')\n",
    "ax1.set_xlabel('Vote Average', size=15)\n",
    "ax1.set_ylabel('Vote Count', size=15)\n",
    "\n",
    "\n",
    "plt.tight_layout();"
   ]
  },
  {
   "cell_type": "markdown",
   "metadata": {},
   "source": [
    "### Feedback\n",
    "#### The movies' average vote increases with the vote counts as there is a gradual increase starting from average score 5 until we reach average score 8. While the movies with average score more than 8 have low amount of votes."
   ]
  },
  {
   "cell_type": "markdown",
   "metadata": {},
   "source": [
    "## Q8: Did the movies runtime change over the years?"
   ]
  },
  {
   "cell_type": "code",
   "execution_count": 229,
   "metadata": {
    "scrolled": false
   },
   "outputs": [
    {
     "data": {
      "image/png": "[encoded data removed]",
      "text/plain": [
       "<Figure size 864x360 with 1 Axes>"
      ]
     },
     "metadata": {},
     "output_type": "display_data"
    }
   ],
   "source": [
    "fig, ax1 = plt.subplots(1, figsize=(12,5))\n",
    "\n",
    "runtime = df_clean.groupby('release_year')['runtime'].mean()\n",
    "\n",
    "plt.plot(runtime)\n",
    "plt.xlabel('Year', size=15)\n",
    "plt.ylabel('Tweets Count', size=15)\n",
    "\n",
    "plt.show()"
   ]
  },
  {
   "cell_type": "markdown",
   "metadata": {},
   "source": [
    "### Feedback\n",
    "#### It seems the movies' runtime really decreases with years and it might be due to the obvious emergence of the various kinds of movies recently such as documentary, short movies, etc which has less runtime.  "
   ]
  },
  {
   "cell_type": "markdown",
   "metadata": {},
   "source": [
    "## Q9: Who has directed the highest number of movies?"
   ]
  },
  {
   "cell_type": "code",
   "execution_count": 395,
   "metadata": {
    "scrolled": true
   },
   "outputs": [
    {
     "data": {
      "text/plain": [
       "Woody Allen          45\n",
       "Clint Eastwood       34\n",
       "Martin Scorsese      29\n",
       "Steven Spielberg     29\n",
       "Ridley Scott         23\n",
       "Steven Soderbergh    22\n",
       "Ron Howard           22\n",
       "Joel Schumacher      21\n",
       "Brian De Palma       20\n",
       "Barry Levinson       19\n",
       "Name: director, dtype: int64"
      ]
     },
     "execution_count": 395,
     "metadata": {},
     "output_type": "execute_result"
    }
   ],
   "source": [
    "df_clean['director'].value_counts().iloc[:10, ]"
   ]
  },
  {
   "cell_type": "markdown",
   "metadata": {},
   "source": [
    "## Q10: What are the most popular movies?"
   ]
  },
  {
   "cell_type": "code",
   "execution_count": 458,
   "metadata": {
    "scrolled": true
   },
   "outputs": [
    {
     "data": {
      "text/html": [
       "<div>\n",
       "<style scoped>\n",
       "    .dataframe tbody tr th:only-of-type {\n",
       "        vertical-align: middle;\n",
       "    }\n",
       "\n",
       "    .dataframe tbody tr th {\n",
       "        vertical-align: top;\n",
       "    }\n",
       "\n",
       "    .dataframe thead th {\n",
       "        text-align: right;\n",
       "    }\n",
       "</style>\n",
       "<table border=\"1\" class=\"dataframe\">\n",
       "  <thead>\n",
       "    <tr style=\"text-align: right;\">\n",
       "      <th></th>\n",
       "      <th>original_title</th>\n",
       "      <th>popularity</th>\n",
       "      <th>release_year</th>\n",
       "    </tr>\n",
       "  </thead>\n",
       "  <tbody>\n",
       "    <tr>\n",
       "      <th>0</th>\n",
       "      <td>Jurassic World</td>\n",
       "      <td>32.985763</td>\n",
       "      <td>2015</td>\n",
       "    </tr>\n",
       "    <tr>\n",
       "      <th>1</th>\n",
       "      <td>Mad Max: Fury Road</td>\n",
       "      <td>28.419936</td>\n",
       "      <td>2015</td>\n",
       "    </tr>\n",
       "    <tr>\n",
       "      <th>629</th>\n",
       "      <td>Interstellar</td>\n",
       "      <td>24.949134</td>\n",
       "      <td>2014</td>\n",
       "    </tr>\n",
       "    <tr>\n",
       "      <th>630</th>\n",
       "      <td>Guardians of the Galaxy</td>\n",
       "      <td>14.311205</td>\n",
       "      <td>2014</td>\n",
       "    </tr>\n",
       "    <tr>\n",
       "      <th>2</th>\n",
       "      <td>Insurgent</td>\n",
       "      <td>13.112507</td>\n",
       "      <td>2015</td>\n",
       "    </tr>\n",
       "    <tr>\n",
       "      <th>631</th>\n",
       "      <td>Captain America: The Winter Soldier</td>\n",
       "      <td>12.971027</td>\n",
       "      <td>2014</td>\n",
       "    </tr>\n",
       "    <tr>\n",
       "      <th>1329</th>\n",
       "      <td>Star Wars</td>\n",
       "      <td>12.037933</td>\n",
       "      <td>1977</td>\n",
       "    </tr>\n",
       "    <tr>\n",
       "      <th>632</th>\n",
       "      <td>John Wick</td>\n",
       "      <td>11.422751</td>\n",
       "      <td>2014</td>\n",
       "    </tr>\n",
       "    <tr>\n",
       "      <th>3</th>\n",
       "      <td>Star Wars: The Force Awakens</td>\n",
       "      <td>11.173104</td>\n",
       "      <td>2015</td>\n",
       "    </tr>\n",
       "    <tr>\n",
       "      <th>633</th>\n",
       "      <td>The Hunger Games: Mockingjay - Part 1</td>\n",
       "      <td>10.739009</td>\n",
       "      <td>2014</td>\n",
       "    </tr>\n",
       "  </tbody>\n",
       "</table>\n",
       "</div>"
      ],
      "text/plain": [
       "                             original_title  popularity release_year\n",
       "0                            Jurassic World   32.985763         2015\n",
       "1                        Mad Max: Fury Road   28.419936         2015\n",
       "629                            Interstellar   24.949134         2014\n",
       "630                 Guardians of the Galaxy   14.311205         2014\n",
       "2                                 Insurgent   13.112507         2015\n",
       "631     Captain America: The Winter Soldier   12.971027         2014\n",
       "1329                              Star Wars   12.037933         1977\n",
       "632                               John Wick   11.422751         2014\n",
       "3              Star Wars: The Force Awakens   11.173104         2015\n",
       "633   The Hunger Games: Mockingjay - Part 1   10.739009         2014"
      ]
     },
     "execution_count": 458,
     "metadata": {},
     "output_type": "execute_result"
    }
   ],
   "source": [
    "df_clean[['original_title', 'popularity', 'release_year']].sort_values(ascending = False, by = 'popularity').iloc[:10,]"
   ]
  },
  {
   "cell_type": "markdown",
   "metadata": {},
   "source": [
    "## df_genres dataset analysis"
   ]
  },
  {
   "cell_type": "markdown",
   "metadata": {},
   "source": [
    "## Q1: What are the most popular genres across the dataset?"
   ]
  },
  {
   "cell_type": "code",
   "execution_count": 365,
   "metadata": {},
   "outputs": [],
   "source": [
    "#copying from df_clean to split the genres to find the movies' genres over the years\n",
    "#Approach to follow from https://programmer.ink/think/pandas-how-do-i-split-text-in-a-column-into-multiple-lines-python.html\n",
    "df_genres = df_clean.copy()"
   ]
  },
  {
   "cell_type": "code",
   "execution_count": 366,
   "metadata": {},
   "outputs": [],
   "source": [
    "df_genres = df_genres['genres'].str.split('|', expand=True).stack()"
   ]
  },
  {
   "cell_type": "code",
   "execution_count": 367,
   "metadata": {},
   "outputs": [],
   "source": [
    "df_genres = df_genres.reset_index(level=0, drop=True)"
   ]
  },
  {
   "cell_type": "code",
   "execution_count": 369,
   "metadata": {},
   "outputs": [],
   "source": [
    "df_genres = df_genres.rename('genres')"
   ]
  },
  {
   "cell_type": "code",
   "execution_count": 370,
   "metadata": {
    "scrolled": false
   },
   "outputs": [
    {
     "data": {
      "image/png": "[encoded data removed]",
      "text/plain": [
       "<Figure size 720x720 with 1 Axes>"
      ]
     },
     "metadata": {},
     "output_type": "display_data"
    }
   ],
   "source": [
    "df_genres.value_counts().plot(kind= 'pie', autopct='%.2f', fontsize=13, figsize=(10, 10),\n",
    "                                                 title=\"Movies Genres\",labeldistance=1);"
   ]
  },
  {
   "cell_type": "markdown",
   "metadata": {},
   "source": [
    "### Feedback\n",
    "#### Drama comes first as a genre, for the movies included in the dataset, then comedy and third comes thriller. These three genres only make  40% of the total genres found in the dataset."
   ]
  },
  {
   "cell_type": "markdown",
   "metadata": {},
   "source": [
    "## df_cast dataset analysis\n"
   ]
  },
  {
   "cell_type": "markdown",
   "metadata": {},
   "source": [
    "## Q1: Who has participated the most in the movies across the dataset?\n"
   ]
  },
  {
   "cell_type": "code",
   "execution_count": 371,
   "metadata": {},
   "outputs": [],
   "source": [
    "#copying from df_clean to split the cast to find most participating actor in these movies\n",
    "df_cast = df_clean.copy()"
   ]
  },
  {
   "cell_type": "code",
   "execution_count": 372,
   "metadata": {},
   "outputs": [],
   "source": [
    "df_cast = df_cast['cast'].str.split('|', expand=True).stack()"
   ]
  },
  {
   "cell_type": "code",
   "execution_count": 373,
   "metadata": {},
   "outputs": [],
   "source": [
    "df_cast = df_cast.reset_index(level=0, drop=True)"
   ]
  },
  {
   "cell_type": "code",
   "execution_count": 374,
   "metadata": {},
   "outputs": [],
   "source": [
    "df_cast = df_cast.rename('cast')"
   ]
  },
  {
   "cell_type": "code",
   "execution_count": 377,
   "metadata": {
    "scrolled": false
   },
   "outputs": [
    {
     "data": {
      "text/plain": [
       "Robert De Niro       72\n",
       "Samuel L. Jackson    71\n",
       "Bruce Willis         62\n",
       "Nicolas Cage         61\n",
       "Michael Caine        53\n",
       "Robin Williams       51\n",
       "John Cusack          50\n",
       "John Goodman         49\n",
       "Morgan Freeman       49\n",
       "Liam Neeson          48\n",
       "Name: cast, dtype: int64"
      ]
     },
     "execution_count": 377,
     "metadata": {},
     "output_type": "execute_result"
    }
   ],
   "source": [
    "df_cast.value_counts().iloc[:10, ]"
   ]
  },
  {
   "cell_type": "markdown",
   "metadata": {},
   "source": [
    "## df_production dataset analysis"
   ]
  },
  {
   "cell_type": "markdown",
   "metadata": {},
   "source": [
    "## Q1: Which companies produced the highest number of movies?"
   ]
  },
  {
   "cell_type": "code",
   "execution_count": 381,
   "metadata": {},
   "outputs": [],
   "source": [
    "#copying from df_clean to split the cast to find most participating actor in these movies\n",
    "df_production = df_clean.copy()"
   ]
  },
  {
   "cell_type": "code",
   "execution_count": 383,
   "metadata": {},
   "outputs": [],
   "source": [
    "df_production = df_production['production_companies'].str.split('|', expand=True).stack()"
   ]
  },
  {
   "cell_type": "code",
   "execution_count": 384,
   "metadata": {},
   "outputs": [],
   "source": [
    "df_production = df_production.reset_index(level=0, drop=True)"
   ]
  },
  {
   "cell_type": "code",
   "execution_count": 385,
   "metadata": {},
   "outputs": [],
   "source": [
    "df_production = df_production.rename('production_companies')"
   ]
  },
  {
   "cell_type": "code",
   "execution_count": 390,
   "metadata": {
    "scrolled": true
   },
   "outputs": [
    {
     "data": {
      "text/plain": [
       "Universal Pictures                        522\n",
       "Warner Bros.                              509\n",
       "Paramount Pictures                        431\n",
       "Twentieth Century Fox Film Corporation    282\n",
       "Columbia Pictures                         272\n",
       "New Line Cinema                           219\n",
       "Metro-Goldwyn-Mayer (MGM)                 218\n",
       "Walt Disney Pictures                      214\n",
       "Touchstone Pictures                       178\n",
       "Columbia Pictures Corporation             160\n",
       "Name: production_companies, dtype: int64"
      ]
     },
     "execution_count": 390,
     "metadata": {},
     "output_type": "execute_result"
    }
   ],
   "source": [
    "df_production.value_counts().iloc[:10, ]"
   ]
  },
  {
   "cell_type": "markdown",
   "metadata": {},
   "source": [
    "## df_clean_figures dataset analysis"
   ]
  },
  {
   "cell_type": "code",
   "execution_count": 140,
   "metadata": {
    "scrolled": false
   },
   "outputs": [
    {
     "data": {
      "image/png": "[encoded data removed]",
      "text/plain": [
       "<Figure size 720x576 with 9 Axes>"
      ]
     },
     "metadata": {},
     "output_type": "display_data"
    }
   ],
   "source": [
    "#A glimpse how the data distribution seem:\n",
    "df_clean_figures.hist(figsize = (10,8), alpha=0.7);"
   ]
  },
  {
   "cell_type": "code",
   "execution_count": 142,
   "metadata": {
    "scrolled": false
   },
   "outputs": [
    {
     "data": {
      "text/html": [
       "<div>\n",
       "<style scoped>\n",
       "    .dataframe tbody tr th:only-of-type {\n",
       "        vertical-align: middle;\n",
       "    }\n",
       "\n",
       "    .dataframe tbody tr th {\n",
       "        vertical-align: top;\n",
       "    }\n",
       "\n",
       "    .dataframe thead th {\n",
       "        text-align: right;\n",
       "    }\n",
       "</style>\n",
       "<table border=\"1\" class=\"dataframe\">\n",
       "  <thead>\n",
       "    <tr style=\"text-align: right;\">\n",
       "      <th></th>\n",
       "      <th>id</th>\n",
       "      <th>popularity</th>\n",
       "      <th>budget</th>\n",
       "      <th>revenue</th>\n",
       "      <th>original_title</th>\n",
       "      <th>cast</th>\n",
       "      <th>director</th>\n",
       "      <th>runtime</th>\n",
       "      <th>genres</th>\n",
       "      <th>production_companies</th>\n",
       "      <th>release_date</th>\n",
       "      <th>vote_count</th>\n",
       "      <th>vote_average</th>\n",
       "      <th>release_year</th>\n",
       "      <th>budget_adj</th>\n",
       "      <th>revenue_adj</th>\n",
       "      <th>profit</th>\n",
       "    </tr>\n",
       "  </thead>\n",
       "  <tbody>\n",
       "    <tr>\n",
       "      <th>0</th>\n",
       "      <td>135397</td>\n",
       "      <td>32.985763</td>\n",
       "      <td>150000000</td>\n",
       "      <td>1513528810</td>\n",
       "      <td>Jurassic World</td>\n",
       "      <td>Chris Pratt|Bryce Dallas Howard|Irrfan Khan|Vi...</td>\n",
       "      <td>Colin Trevorrow</td>\n",
       "      <td>124</td>\n",
       "      <td>Action|Adventure|Science Fiction|Thriller</td>\n",
       "      <td>Universal Studios|Amblin Entertainment|Legenda...</td>\n",
       "      <td>2015-06-09</td>\n",
       "      <td>5562</td>\n",
       "      <td>6.5</td>\n",
       "      <td>2015</td>\n",
       "      <td>1.379999e+08</td>\n",
       "      <td>1.392446e+09</td>\n",
       "      <td>1363528810</td>\n",
       "    </tr>\n",
       "    <tr>\n",
       "      <th>1</th>\n",
       "      <td>76341</td>\n",
       "      <td>28.419936</td>\n",
       "      <td>150000000</td>\n",
       "      <td>378436354</td>\n",
       "      <td>Mad Max: Fury Road</td>\n",
       "      <td>Tom Hardy|Charlize Theron|Hugh Keays-Byrne|Nic...</td>\n",
       "      <td>George Miller</td>\n",
       "      <td>120</td>\n",
       "      <td>Action|Adventure|Science Fiction|Thriller</td>\n",
       "      <td>Village Roadshow Pictures|Kennedy Miller Produ...</td>\n",
       "      <td>2015-05-13</td>\n",
       "      <td>6185</td>\n",
       "      <td>7.1</td>\n",
       "      <td>2015</td>\n",
       "      <td>1.379999e+08</td>\n",
       "      <td>3.481613e+08</td>\n",
       "      <td>228436354</td>\n",
       "    </tr>\n",
       "    <tr>\n",
       "      <th>2</th>\n",
       "      <td>262500</td>\n",
       "      <td>13.112507</td>\n",
       "      <td>110000000</td>\n",
       "      <td>295238201</td>\n",
       "      <td>Insurgent</td>\n",
       "      <td>Shailene Woodley|Theo James|Kate Winslet|Ansel...</td>\n",
       "      <td>Robert Schwentke</td>\n",
       "      <td>119</td>\n",
       "      <td>Adventure|Science Fiction|Thriller</td>\n",
       "      <td>Summit Entertainment|Mandeville Films|Red Wago...</td>\n",
       "      <td>2015-03-18</td>\n",
       "      <td>2480</td>\n",
       "      <td>6.3</td>\n",
       "      <td>2015</td>\n",
       "      <td>1.012000e+08</td>\n",
       "      <td>2.716190e+08</td>\n",
       "      <td>185238201</td>\n",
       "    </tr>\n",
       "    <tr>\n",
       "      <th>3</th>\n",
       "      <td>140607</td>\n",
       "      <td>11.173104</td>\n",
       "      <td>200000000</td>\n",
       "      <td>2068178225</td>\n",
       "      <td>Star Wars: The Force Awakens</td>\n",
       "      <td>Harrison Ford|Mark Hamill|Carrie Fisher|Adam D...</td>\n",
       "      <td>J.J. Abrams</td>\n",
       "      <td>136</td>\n",
       "      <td>Action|Adventure|Science Fiction|Fantasy</td>\n",
       "      <td>Lucasfilm|Truenorth Productions|Bad Robot</td>\n",
       "      <td>2015-12-15</td>\n",
       "      <td>5292</td>\n",
       "      <td>7.5</td>\n",
       "      <td>2015</td>\n",
       "      <td>1.839999e+08</td>\n",
       "      <td>1.902723e+09</td>\n",
       "      <td>1868178225</td>\n",
       "    </tr>\n",
       "    <tr>\n",
       "      <th>4</th>\n",
       "      <td>168259</td>\n",
       "      <td>9.335014</td>\n",
       "      <td>190000000</td>\n",
       "      <td>1506249360</td>\n",
       "      <td>Furious 7</td>\n",
       "      <td>Vin Diesel|Paul Walker|Jason Statham|Michelle ...</td>\n",
       "      <td>James Wan</td>\n",
       "      <td>137</td>\n",
       "      <td>Action|Crime|Thriller</td>\n",
       "      <td>Universal Pictures|Original Film|Media Rights ...</td>\n",
       "      <td>2015-04-01</td>\n",
       "      <td>2947</td>\n",
       "      <td>7.3</td>\n",
       "      <td>2015</td>\n",
       "      <td>1.747999e+08</td>\n",
       "      <td>1.385749e+09</td>\n",
       "      <td>1316249360</td>\n",
       "    </tr>\n",
       "  </tbody>\n",
       "</table>\n",
       "</div>"
      ],
      "text/plain": [
       "       id  popularity     budget     revenue                original_title  \\\n",
       "0  135397   32.985763  150000000  1513528810                Jurassic World   \n",
       "1   76341   28.419936  150000000   378436354            Mad Max: Fury Road   \n",
       "2  262500   13.112507  110000000   295238201                     Insurgent   \n",
       "3  140607   11.173104  200000000  2068178225  Star Wars: The Force Awakens   \n",
       "4  168259    9.335014  190000000  1506249360                     Furious 7   \n",
       "\n",
       "                                                cast          director  \\\n",
       "0  Chris Pratt|Bryce Dallas Howard|Irrfan Khan|Vi...   Colin Trevorrow   \n",
       "1  Tom Hardy|Charlize Theron|Hugh Keays-Byrne|Nic...     George Miller   \n",
       "2  Shailene Woodley|Theo James|Kate Winslet|Ansel...  Robert Schwentke   \n",
       "3  Harrison Ford|Mark Hamill|Carrie Fisher|Adam D...       J.J. Abrams   \n",
       "4  Vin Diesel|Paul Walker|Jason Statham|Michelle ...         James Wan   \n",
       "\n",
       "   runtime                                     genres  \\\n",
       "0      124  Action|Adventure|Science Fiction|Thriller   \n",
       "1      120  Action|Adventure|Science Fiction|Thriller   \n",
       "2      119         Adventure|Science Fiction|Thriller   \n",
       "3      136   Action|Adventure|Science Fiction|Fantasy   \n",
       "4      137                      Action|Crime|Thriller   \n",
       "\n",
       "                                production_companies release_date  vote_count  \\\n",
       "0  Universal Studios|Amblin Entertainment|Legenda...   2015-06-09        5562   \n",
       "1  Village Roadshow Pictures|Kennedy Miller Produ...   2015-05-13        6185   \n",
       "2  Summit Entertainment|Mandeville Films|Red Wago...   2015-03-18        2480   \n",
       "3          Lucasfilm|Truenorth Productions|Bad Robot   2015-12-15        5292   \n",
       "4  Universal Pictures|Original Film|Media Rights ...   2015-04-01        2947   \n",
       "\n",
       "   vote_average release_year    budget_adj   revenue_adj      profit  \n",
       "0           6.5         2015  1.379999e+08  1.392446e+09  1363528810  \n",
       "1           7.1         2015  1.379999e+08  3.481613e+08   228436354  \n",
       "2           6.3         2015  1.012000e+08  2.716190e+08   185238201  \n",
       "3           7.5         2015  1.839999e+08  1.902723e+09  1868178225  \n",
       "4           7.3         2015  1.747999e+08  1.385749e+09  1316249360  "
      ]
     },
     "execution_count": 142,
     "metadata": {},
     "output_type": "execute_result"
    }
   ],
   "source": [
    "df_clean_figures.head()"
   ]
  },
  {
   "cell_type": "markdown",
   "metadata": {},
   "source": [
    "### Q1: What are the biggest money-losing and most profitable movies?"
   ]
  },
  {
   "cell_type": "code",
   "execution_count": 461,
   "metadata": {
    "scrolled": true
   },
   "outputs": [
    {
     "data": {
      "text/html": [
       "<div>\n",
       "<style scoped>\n",
       "    .dataframe tbody tr th:only-of-type {\n",
       "        vertical-align: middle;\n",
       "    }\n",
       "\n",
       "    .dataframe tbody tr th {\n",
       "        vertical-align: top;\n",
       "    }\n",
       "\n",
       "    .dataframe thead th {\n",
       "        text-align: right;\n",
       "    }\n",
       "</style>\n",
       "<table border=\"1\" class=\"dataframe\">\n",
       "  <thead>\n",
       "    <tr style=\"text-align: right;\">\n",
       "      <th></th>\n",
       "      <th>original_title</th>\n",
       "      <th>profit</th>\n",
       "      <th>profit_adj</th>\n",
       "      <th>release_year</th>\n",
       "    </tr>\n",
       "  </thead>\n",
       "  <tbody>\n",
       "    <tr>\n",
       "      <th>1386</th>\n",
       "      <td>Avatar</td>\n",
       "      <td>2544505847</td>\n",
       "      <td>2.586237e+09</td>\n",
       "      <td>2009</td>\n",
       "    </tr>\n",
       "    <tr>\n",
       "      <th>3</th>\n",
       "      <td>Star Wars: The Force Awakens</td>\n",
       "      <td>1868178225</td>\n",
       "      <td>1.718723e+09</td>\n",
       "      <td>2015</td>\n",
       "    </tr>\n",
       "    <tr>\n",
       "      <th>5231</th>\n",
       "      <td>Titanic</td>\n",
       "      <td>1645034188</td>\n",
       "      <td>2.234714e+09</td>\n",
       "      <td>1997</td>\n",
       "    </tr>\n",
       "    <tr>\n",
       "      <th>0</th>\n",
       "      <td>Jurassic World</td>\n",
       "      <td>1363528810</td>\n",
       "      <td>1.254446e+09</td>\n",
       "      <td>2015</td>\n",
       "    </tr>\n",
       "    <tr>\n",
       "      <th>4</th>\n",
       "      <td>Furious 7</td>\n",
       "      <td>1316249360</td>\n",
       "      <td>1.210949e+09</td>\n",
       "      <td>2015</td>\n",
       "    </tr>\n",
       "    <tr>\n",
       "      <th>4361</th>\n",
       "      <td>The Avengers</td>\n",
       "      <td>1299557910</td>\n",
       "      <td>1.234248e+09</td>\n",
       "      <td>2012</td>\n",
       "    </tr>\n",
       "    <tr>\n",
       "      <th>3374</th>\n",
       "      <td>Harry Potter and the Deathly Hallows: Part 2</td>\n",
       "      <td>1202817822</td>\n",
       "      <td>1.166009e+09</td>\n",
       "      <td>2011</td>\n",
       "    </tr>\n",
       "    <tr>\n",
       "      <th>14</th>\n",
       "      <td>Avengers: Age of Ultron</td>\n",
       "      <td>1125035767</td>\n",
       "      <td>1.035032e+09</td>\n",
       "      <td>2015</td>\n",
       "    </tr>\n",
       "    <tr>\n",
       "      <th>5422</th>\n",
       "      <td>Frozen</td>\n",
       "      <td>1124219009</td>\n",
       "      <td>1.052306e+09</td>\n",
       "      <td>2013</td>\n",
       "    </tr>\n",
       "    <tr>\n",
       "      <th>8094</th>\n",
       "      <td>The Net</td>\n",
       "      <td>1084279658</td>\n",
       "      <td>1.551568e+09</td>\n",
       "      <td>1995</td>\n",
       "    </tr>\n",
       "  </tbody>\n",
       "</table>\n",
       "</div>"
      ],
      "text/plain": [
       "                                    original_title      profit    profit_adj  \\\n",
       "1386                                        Avatar  2544505847  2.586237e+09   \n",
       "3                     Star Wars: The Force Awakens  1868178225  1.718723e+09   \n",
       "5231                                       Titanic  1645034188  2.234714e+09   \n",
       "0                                   Jurassic World  1363528810  1.254446e+09   \n",
       "4                                        Furious 7  1316249360  1.210949e+09   \n",
       "4361                                  The Avengers  1299557910  1.234248e+09   \n",
       "3374  Harry Potter and the Deathly Hallows: Part 2  1202817822  1.166009e+09   \n",
       "14                         Avengers: Age of Ultron  1125035767  1.035032e+09   \n",
       "5422                                        Frozen  1124219009  1.052306e+09   \n",
       "8094                                       The Net  1084279658  1.551568e+09   \n",
       "\n",
       "     release_year  \n",
       "1386         2009  \n",
       "3            2015  \n",
       "5231         1997  \n",
       "0            2015  \n",
       "4            2015  \n",
       "4361         2012  \n",
       "3374         2011  \n",
       "14           2015  \n",
       "5422         2013  \n",
       "8094         1995  "
      ]
     },
     "execution_count": 461,
     "metadata": {},
     "output_type": "execute_result"
    }
   ],
   "source": [
    "df_clean_figures[['original_title', 'profit','profit_adj', 'release_year']].sort_values(ascending=False, by='profit').iloc[:10,:]"
   ]
  },
  {
   "cell_type": "code",
   "execution_count": 463,
   "metadata": {},
   "outputs": [
    {
     "data": {
      "text/html": [
       "<div>\n",
       "<style scoped>\n",
       "    .dataframe tbody tr th:only-of-type {\n",
       "        vertical-align: middle;\n",
       "    }\n",
       "\n",
       "    .dataframe tbody tr th {\n",
       "        vertical-align: top;\n",
       "    }\n",
       "\n",
       "    .dataframe thead th {\n",
       "        text-align: right;\n",
       "    }\n",
       "</style>\n",
       "<table border=\"1\" class=\"dataframe\">\n",
       "  <thead>\n",
       "    <tr style=\"text-align: right;\">\n",
       "      <th></th>\n",
       "      <th>original_title</th>\n",
       "      <th>profit</th>\n",
       "      <th>profit_adj</th>\n",
       "      <th>release_year</th>\n",
       "    </tr>\n",
       "  </thead>\n",
       "  <tbody>\n",
       "    <tr>\n",
       "      <th>5508</th>\n",
       "      <td>The Lone Ranger</td>\n",
       "      <td>-165710090</td>\n",
       "      <td>-1.551102e+08</td>\n",
       "      <td>2013</td>\n",
       "    </tr>\n",
       "    <tr>\n",
       "      <th>7031</th>\n",
       "      <td>The Alamo</td>\n",
       "      <td>-119180039</td>\n",
       "      <td>-1.375868e+08</td>\n",
       "      <td>2004</td>\n",
       "    </tr>\n",
       "    <tr>\n",
       "      <th>3484</th>\n",
       "      <td>Mars Needs Moms</td>\n",
       "      <td>-111007242</td>\n",
       "      <td>-1.076102e+08</td>\n",
       "      <td>2011</td>\n",
       "    </tr>\n",
       "    <tr>\n",
       "      <th>2435</th>\n",
       "      <td>The 13th Warrior</td>\n",
       "      <td>-98301101</td>\n",
       "      <td>-1.286813e+08</td>\n",
       "      <td>1999</td>\n",
       "    </tr>\n",
       "    <tr>\n",
       "      <th>4078</th>\n",
       "      <td>The Adventures of Pluto Nash</td>\n",
       "      <td>-92896027</td>\n",
       "      <td>-1.126143e+08</td>\n",
       "      <td>2002</td>\n",
       "    </tr>\n",
       "    <tr>\n",
       "      <th>6590</th>\n",
       "      <td>Flushed Away</td>\n",
       "      <td>-84540684</td>\n",
       "      <td>-9.144505e+07</td>\n",
       "      <td>2006</td>\n",
       "    </tr>\n",
       "    <tr>\n",
       "      <th>2915</th>\n",
       "      <td>Australia</td>\n",
       "      <td>-80445998</td>\n",
       "      <td>-8.147463e+07</td>\n",
       "      <td>2008</td>\n",
       "    </tr>\n",
       "    <tr>\n",
       "      <th>8102</th>\n",
       "      <td>Cutthroat Island</td>\n",
       "      <td>-79482678</td>\n",
       "      <td>-1.137371e+08</td>\n",
       "      <td>1995</td>\n",
       "    </tr>\n",
       "    <tr>\n",
       "      <th>8765</th>\n",
       "      <td>Supernova</td>\n",
       "      <td>-75171919</td>\n",
       "      <td>-9.518961e+07</td>\n",
       "      <td>2000</td>\n",
       "    </tr>\n",
       "    <tr>\n",
       "      <th>6309</th>\n",
       "      <td>A Sound of Thunder</td>\n",
       "      <td>-74010360</td>\n",
       "      <td>-8.263725e+07</td>\n",
       "      <td>2005</td>\n",
       "    </tr>\n",
       "  </tbody>\n",
       "</table>\n",
       "</div>"
      ],
      "text/plain": [
       "                    original_title     profit    profit_adj release_year\n",
       "5508               The Lone Ranger -165710090 -1.551102e+08         2013\n",
       "7031                     The Alamo -119180039 -1.375868e+08         2004\n",
       "3484               Mars Needs Moms -111007242 -1.076102e+08         2011\n",
       "2435              The 13th Warrior  -98301101 -1.286813e+08         1999\n",
       "4078  The Adventures of Pluto Nash  -92896027 -1.126143e+08         2002\n",
       "6590                  Flushed Away  -84540684 -9.144505e+07         2006\n",
       "2915                     Australia  -80445998 -8.147463e+07         2008\n",
       "8102              Cutthroat Island  -79482678 -1.137371e+08         1995\n",
       "8765                     Supernova  -75171919 -9.518961e+07         2000\n",
       "6309            A Sound of Thunder  -74010360 -8.263725e+07         2005"
      ]
     },
     "execution_count": 463,
     "metadata": {},
     "output_type": "execute_result"
    }
   ],
   "source": [
    "df_clean_figures[['original_title', 'profit','profit_adj', 'release_year']].sort_values(ascending=True, by='profit').iloc[:10,:]"
   ]
  },
  {
   "cell_type": "markdown",
   "metadata": {},
   "source": [
    "### Q2: Does the inflation have that remarkable impact on movies profit over the years?"
   ]
  },
  {
   "cell_type": "code",
   "execution_count": 173,
   "metadata": {
    "scrolled": false
   },
   "outputs": [
    {
     "name": "stderr",
     "output_type": "stream",
     "text": [
      "C:\\Users\\Ahmed Nasser\\anaconda3\\lib\\site-packages\\ipykernel_launcher.py:2: FutureWarning: Indexing with multiple keys (implicitly converted to a tuple of keys) will be deprecated, use a list instead.\n",
      "  \n"
     ]
    },
    {
     "data": {
      "image/png": "[encoded data removed]",
      "text/plain": [
       "<Figure size 1008x360 with 1 Axes>"
      ]
     },
     "metadata": {},
     "output_type": "display_data"
    }
   ],
   "source": [
    "fig, (ax1) = plt.subplots(1, figsize=(14,5))\n",
    "df_clean_figures.groupby('release_year')['profit', 'profit_adj'].sum().plot(kind='bar', ax=ax1, title='Profit Vs Profit adj over the years')\n",
    "ax1.set_xlabel('Year', size=15)\n",
    "ax1.set_ylabel('Profit', size=15)\n",
    "\n",
    "plt.tight_layout();"
   ]
  },
  {
   "cell_type": "markdown",
   "metadata": {},
   "source": [
    "### Feedback\n",
    "#### As expected that the older movies' profit seem to be good in terms of 2010 dollars besides elucidating really remarkable profit across the seventies."
   ]
  },
  {
   "cell_type": "markdown",
   "metadata": {},
   "source": [
    "## Q3: How would the budgets, revenues and profits change over the years?"
   ]
  },
  {
   "cell_type": "code",
   "execution_count": 234,
   "metadata": {
    "scrolled": true
   },
   "outputs": [
    {
     "name": "stderr",
     "output_type": "stream",
     "text": [
      "C:\\Users\\Ahmed Nasser\\anaconda3\\lib\\site-packages\\ipykernel_launcher.py:3: FutureWarning: Indexing with multiple keys (implicitly converted to a tuple of keys) will be deprecated, use a list instead.\n",
      "  This is separate from the ipykernel package so we can avoid doing imports until\n"
     ]
    },
    {
     "data": {
      "image/png": "[encoded data removed]",
      "text/plain": [
       "<Figure size 1152x432 with 1 Axes>"
      ]
     },
     "metadata": {},
     "output_type": "display_data"
    }
   ],
   "source": [
    "fig, (ax1) = plt.subplots(1, figsize=(16,6))\n",
    "\n",
    "monetary = df_clean_figures.groupby('release_year')['budget','revenue','profit'].sum()\n",
    "plt.plot(monetary)\n",
    "plt.xlabel('Year', size=15)\n",
    "plt.ylabel('Profit', size=15)\n",
    "plt.title('Movies\\' Financial Status over years')\n",
    "plt.show()\n",
    "\n"
   ]
  },
  {
   "cell_type": "markdown",
   "metadata": {},
   "source": [
    "### Feedback\n",
    "#### Such a graph shows a very increase in movies' budget with years especially starting from the 2000s. In addition, there is a kind of rapprochement between the budget and revenue in the sixties, seventies and eighties till almost the nineties. Then, both the revenue and budget had increased very remarkably, however, the difference between them got bigger unlike the previous decades."
   ]
  },
  {
   "cell_type": "markdown",
   "metadata": {},
   "source": [
    "## Q4: Which months witness the highest profit over the year?"
   ]
  },
  {
   "cell_type": "code",
   "execution_count": 441,
   "metadata": {
    "scrolled": false
   },
   "outputs": [
    {
     "data": {
      "image/png": "[encoded data removed]",
      "text/plain": [
       "<Figure size 864x360 with 1 Axes>"
      ]
     },
     "metadata": {},
     "output_type": "display_data"
    }
   ],
   "source": [
    "fig, (ax1) = plt.subplots(1, figsize=(12,5))\n",
    "h= df_clean_figures['release_date'].dt.month \n",
    "df_clean_figures.groupby(h)['profit'].sum().plot(kind='bar', ax=ax1, title='Movies Profit over the year')\n",
    "ax1.set_xlabel('Month', size=15)\n",
    "ax1.set_ylabel('Profit', size=15)\n",
    "plt.tight_layout();"
   ]
  },
  {
   "cell_type": "markdown",
   "metadata": {},
   "source": [
    "### Feedback\n",
    "#### As per the graph, it demonstrates that the highest profit across five months a year and they could be the months where a lot of people have a plenty of time to go to the cinemas. So, it can be taken into consideration to release a movie in such times to gurantee a good turnout"
   ]
  },
  {
   "cell_type": "markdown",
   "metadata": {},
   "source": [
    "## Q5: Which directors do whose movies make the highest and least profit?"
   ]
  },
  {
   "cell_type": "code",
   "execution_count": 413,
   "metadata": {},
   "outputs": [
    {
     "data": {
      "text/plain": [
       "director\n",
       "Steven Spielberg     7467063772\n",
       "Peter Jackson        5197244659\n",
       "James Cameron        5081994863\n",
       "Michael Bay          3557208171\n",
       "David Yates          3379295625\n",
       "Christopher Nolan    3162548502\n",
       "Chris Columbus       3116631503\n",
       "George Lucas         2955996893\n",
       "Robert Zemeckis      2846690869\n",
       "J.J. Abrams          2839169916\n",
       "Name: profit, dtype: int64"
      ]
     },
     "execution_count": 413,
     "metadata": {},
     "output_type": "execute_result"
    }
   ],
   "source": [
    "#the directors whose movies made the highest profit\n",
    "df_clean_figures.groupby('director')['profit'].sum().sort_values(ascending= False).iloc[:10, ]"
   ]
  },
  {
   "cell_type": "code",
   "execution_count": 412,
   "metadata": {
    "scrolled": true
   },
   "outputs": [
    {
     "data": {
      "text/plain": [
       "director\n",
       "David Bowers|Sam Fell                -84540684\n",
       "Walter Hill|Jack Sholder             -75171919\n",
       "Andrei Konchalovsky                  -74885029\n",
       "Joby Harold                          -71626175\n",
       "Rod Lurie                            -70346150\n",
       "Simon Wells                          -67278066\n",
       "Oliver Hirschbiegel|James McTeigue   -64928486\n",
       "Lawrence Kasanoff                    -64926294\n",
       "John Bruno                           -60989310\n",
       "Steven Zaillian                      -58846202\n",
       "Name: profit, dtype: int64"
      ]
     },
     "execution_count": 412,
     "metadata": {},
     "output_type": "execute_result"
    }
   ],
   "source": [
    "#the directors whose movies made the least profit\n",
    "df_clean_figures.groupby('director')['profit'].sum().sort_values(ascending= True).iloc[:10, ]"
   ]
  },
  {
   "cell_type": "markdown",
   "metadata": {},
   "source": [
    "## Q6: Do the directors that use the highest budgets get the highest revenue in return?"
   ]
  },
  {
   "cell_type": "code",
   "execution_count": 427,
   "metadata": {
    "scrolled": false
   },
   "outputs": [
    {
     "name": "stderr",
     "output_type": "stream",
     "text": [
      "C:\\Users\\Ahmed Nasser\\anaconda3\\lib\\site-packages\\ipykernel_launcher.py:3: FutureWarning: Indexing with multiple keys (implicitly converted to a tuple of keys) will be deprecated, use a list instead.\n",
      "  This is separate from the ipykernel package so we can avoid doing imports until\n"
     ]
    },
    {
     "data": {
      "image/png": "[encoded data removed]",
      "text/plain": [
       "<Figure size 864x360 with 1 Axes>"
      ]
     },
     "metadata": {},
     "output_type": "display_data"
    }
   ],
   "source": [
    "fig, (ax1) = plt.subplots(1, figsize=(12,5))\n",
    "\n",
    "df_clean_figures.groupby('director')['revenue','budget', 'profit'].sum().sort_values(ascending= False, by='budget').iloc[:10,:].plot(kind='bar',ax=ax1, title='Highest Budgets vs Revenues')\n",
    "ax1.set_xlabel('Director', size=15)\n",
    "ax1.set_ylabel('Monetary Value', size=15)\n",
    "plt.tight_layout();\n",
    "\n"
   ]
  },
  {
   "cell_type": "markdown",
   "metadata": {},
   "source": [
    "### Feedback\n",
    "#### It seems that using high budgets would be a favor as it gets a high revenue in return as mentioned"
   ]
  },
  {
   "cell_type": "markdown",
   "metadata": {},
   "source": [
    "## Q7: Which production companies making the highest revenue and profit?"
   ]
  },
  {
   "cell_type": "code",
   "execution_count": 439,
   "metadata": {
    "scrolled": true
   },
   "outputs": [
    {
     "data": {
      "text/plain": [
       "production_companies\n",
       "Walt Disney Pictures|Pixar Animation Studios                                                                  5791558520\n",
       "Paramount Pictures                                                                                            5126632638\n",
       "DreamWorks Animation                                                                                          4689741096\n",
       "Marvel Studios                                                                                                4657808966\n",
       "Blue Sky Studios|Twentieth Century Fox Animation                                                              3305820202\n",
       "Columbia Pictures                                                                                             3232619748\n",
       "Universal Pictures|Illumination Entertainment                                                                 2851800871\n",
       "Ingenious Film Partners|Twentieth Century Fox Film Corporation|Dune Entertainment|Lightstorm Entertainment    2544505847\n",
       "Walt Disney Pictures|Walt Disney Animation Studios                                                            2438726837\n",
       "Eon Productions                                                                                               2258131033\n",
       "Name: profit, dtype: int64"
      ]
     },
     "execution_count": 439,
     "metadata": {},
     "output_type": "execute_result"
    }
   ],
   "source": [
    "df_clean_figures.groupby('production_companies')['profit'].sum().sort_values(ascending= False).iloc[:10, ]"
   ]
  },
  {
   "cell_type": "code",
   "execution_count": 440,
   "metadata": {
    "scrolled": true
   },
   "outputs": [
    {
     "data": {
      "text/plain": [
       "production_companies\n",
       "Walt Disney Pictures|Pixar Animation Studios          7648558520\n",
       "Paramount Pictures                                    7040937553\n",
       "DreamWorks Animation                                  6676741096\n",
       "Marvel Studios                                        6027808966\n",
       "Columbia Pictures                                     4621239748\n",
       "Blue Sky Studios|Twentieth Century Fox Animation      3938820202\n",
       "Walt Disney Pictures|Walt Disney Animation Studios    3498726837\n",
       "Universal Pictures|Illumination Entertainment         3203800871\n",
       "Universal Pictures                                    3139395421\n",
       "Eon Productions                                       3126131033\n",
       "Name: revenue, dtype: int64"
      ]
     },
     "execution_count": 440,
     "metadata": {},
     "output_type": "execute_result"
    }
   ],
   "source": [
    "df_clean_figures.groupby('production_companies')['revenue'].sum().sort_values(ascending= False).iloc[:10, ]"
   ]
  },
  {
   "cell_type": "markdown",
   "metadata": {},
   "source": [
    "### An overview of Data Assessing and wrangling steps\n",
    "\n",
    "In beginning, after assessing the data, there have been 10866 rows and 21 columns of various data and dtypes. Besides, there are null values in 9 columns, one duplicate row and the monetary-related columns have very low values which don't make any sense. Moreover, there are some other columns of only text content with no benefit to working on and some other columns to be transformed into a specific dtype to use. \n",
    "\n",
    "So, a first copy has been made to perform such operations starting from dropping the null values, unneeded columns and transforming some columns. \n",
    "\n",
    "Then, a second copy has been made to perform extra operations such as dropping all the null values and all the budget and revenue columns of zero values. Then, after some research about the movies with a very low budget and revenue values, they have been dropped as they represent fake data. Over and above, a profit column has been created by subtracting the revenue and budget columns to find some trends regarding profitability.\n"
   ]
  },
  {
   "cell_type": "markdown",
   "metadata": {},
   "source": [
    "<a id='conclusions'></a>\n",
    "## Conclusions\n",
    "\n",
    "Speaking of the data analysis, here are the findings:\n",
    "\n",
    "Popularity ranges from 0  to 32 approximately.\n",
    "Votes range from 1.5 to 9.2 (on a scale-out of 10), with an average of 5.97.\n",
    "The budget ranges from approx. 0 - 425 million (average 14.6 million) in USD dollars.\n",
    "Revenue (USD) ranges from approx. 0 - 2.78 billion (average 39.8 million) in USD dollars.\n",
    "Release years range from 1960 - 2015.\n",
    "\n",
    "-The movie's release increases with time clearly where it was below 100 movies in the first three decades. Then, it broke the 100s barrier from the mid-eighties and took less time to reach the highest number in the late nineties. Then, it a dramatic upsurge in the 2000s especially the last years.\n",
    "\n",
    "-These months \"September, October, December, and January\" have a high number of movies released compared to the others across the year.\n",
    "\n",
    "-There is a slight positive correlation between the popularity and both vote average and vote count.\n",
    "\n",
    "-The most recent years' movies have the highest vote count while the older years' movies have the highest vote average.\n",
    "\n",
    "-The highest vote average movies have very low vote count while the highest vote count movies have fine to considerable vote average.\n",
    "\n",
    "-There is a positive correlation between vote average and vote count to an average score of 8, then there isn't after that.\n",
    "\n",
    "-Movies runtime average changes drastically over time from nearly 120 minutes to less than 100 minutes.\n",
    "\n",
    "-Woody Allen has more than 40 movies on the list and Clint Eastwood has more than 30 movies.\n",
    "\n",
    "-9  out of the top 10 popular movies are last decades movies.\n",
    "\n",
    "-Drama, comedy, and thriller are the top three genres across the dataset with nearly 40% of the total genres.\n",
    "\n",
    "-Robert De Niro and Samuel L. Jackson have starred in more than 70 movies on the list.\n",
    "\n",
    "-Universal Pictures, Warner Bros, Paramount Pictures have the highest number of produced movies over 400 movies.\n",
    "\n",
    "-Most of the top ten of the biggest money-losing and most profitable movies are the last two decades' movies while the rest are the late nineties.\n",
    "\n",
    "-Inflation has a very obvious impact, especially when the profit of the older decades' movies got translated into the 2010 USD dollar.\n",
    "\n",
    "-Budget, revenue and profit have been increased dramatically with time. Besides, there is a considerable profit over the last decades in comparison with older ones.\n",
    "\n",
    "-May, June, July, November, and December witnessed the movies with the highest profit.\n",
    "\n",
    "-Steven Spielberg, Peter Jackson, and James Cameron are top directors whose movies make a lot of profit of more than 5 billion dollars.\n",
    "\n",
    "-Directors who spent a lot of money \"highest movie budgets\" got a very high revenue in return.\n",
    "\n",
    "-Walt Disney Pictures, Pixar Animation Studios, and Paramount Pictures made the highest profit and revenue over 7 and 5 billion dollars respectively."
   ]
  },
  {
   "cell_type": "code",
   "execution_count": null,
   "metadata": {},
   "outputs": [],
   "source": []
  }
 ],
 "metadata": {
  "kernelspec": {
   "display_name": "Python 3",
   "language": "python",
   "name": "python3"
  },
  "language_info": {
   "codemirror_mode": {
    "name": "ipython",
    "version": 3
   },
   "file_extension": ".py",
   "mimetype": "text/x-python",
   "name": "python",
   "nbconvert_exporter": "python",
   "pygments_lexer": "ipython3",
   "version": "3.7.6"
  }
 },
 "nbformat": 4,
 "nbformat_minor": 2
}
